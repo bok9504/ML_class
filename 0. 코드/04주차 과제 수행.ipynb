{
 "cells": [
  {
   "cell_type": "markdown",
   "metadata": {},
   "source": [
    "# 인공지능시스템설계"
   ]
  },
  {
   "cell_type": "markdown",
   "metadata": {},
   "source": [
    "## 4주차 과제 수행\n",
    "### - 코랩에서 다음의 연산을 수행하고 그 결과를 캡쳐하여 저장하라"
   ]
  },
  {
   "cell_type": "markdown",
   "metadata": {},
   "source": [
    "#### 1. 지구의 반지름은 6,371km다. 지구가 완전한 원이라고 가정하면 지구의 둘레길이가 얼마인지 계산하라. pi의 값은 3.141592라고 한다"
   ]
  },
  {
   "cell_type": "code",
   "execution_count": 5,
   "metadata": {},
   "outputs": [
    {
     "name": "stdout",
     "output_type": "stream",
     "text": [
      "지구의 둘레길이는 40030.165264km 이다.\n"
     ]
    }
   ],
   "source": [
    "r = 6371\n",
    "pi = 3.141592\n",
    "l = 2 * pi * r\n",
    "\n",
    "print(\"지구의 둘레길이는 \" + str(l) + \"km 이다.\")"
   ]
  },
  {
   "cell_type": "markdown",
   "metadata": {},
   "source": [
    "#### 2. size_area 라는 이름의 변수를 만들고, 반지름이 4.5312인 원의 넓이를 계산하여 저장하라. 단, pi는 3.141592 이다."
   ]
  },
  {
   "cell_type": "code",
   "execution_count": 7,
   "metadata": {},
   "outputs": [
    {
     "name": "stdout",
     "output_type": "stream",
     "text": [
      "64.50245518491649\n"
     ]
    }
   ],
   "source": [
    "r = 4.5312\n",
    "pi = 3.141592\n",
    "size_area = pi * r**2\n",
    "\n",
    "print(size_area)"
   ]
  },
  {
   "cell_type": "markdown",
   "metadata": {},
   "source": [
    "#### 3. radius 라는 이름의 변수를 만들고 4.53을 저장하라. 반지름의 길이가 radius 이고, 각도가 30도인 부채꼴의 면적을 계산하라."
   ]
  },
  {
   "cell_type": "code",
   "execution_count": 9,
   "metadata": {},
   "outputs": [
    {
     "name": "stdout",
     "output_type": "stream",
     "text": [
      "부채꼴의 면적 : 5.372359057087565\n"
     ]
    }
   ],
   "source": [
    "import numpy as np\n",
    "\n",
    "radius = 4.53\n",
    "size = np.pi * radius **2 * 30/360\n",
    "\n",
    "print(\"부채꼴의 면적 : \" + str(size))"
   ]
  },
  {
   "cell_type": "markdown",
   "metadata": {},
   "source": [
    "#### 4. 다음의 값을 계산하라\n",
    "####     sin(pi/3)       log7/log3"
   ]
  },
  {
   "cell_type": "code",
   "execution_count": 10,
   "metadata": {},
   "outputs": [
    {
     "name": "stdout",
     "output_type": "stream",
     "text": [
      "0.8660254037844386\n",
      "1.7712437491614221\n"
     ]
    }
   ],
   "source": [
    "print(np.sin(np.pi / 3))\n",
    "print(np.log(7) / np.log(3))"
   ]
  },
  {
   "cell_type": "code",
   "execution_count": null,
   "metadata": {},
   "outputs": [],
   "source": []
  }
 ],
 "metadata": {
  "kernelspec": {
   "display_name": "Python 3",
   "language": "python",
   "name": "python3"
  },
  "language_info": {
   "codemirror_mode": {
    "name": "ipython",
    "version": 3
   },
   "file_extension": ".py",
   "mimetype": "text/x-python",
   "name": "python",
   "nbconvert_exporter": "python",
   "pygments_lexer": "ipython3",
   "version": "3.7.9"
  }
 },
 "nbformat": 4,
 "nbformat_minor": 4
}
