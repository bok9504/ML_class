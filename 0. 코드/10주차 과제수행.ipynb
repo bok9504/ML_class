{
 "cells": [
  {
   "cell_type": "code",
   "execution_count": 1,
   "metadata": {
    "ExecuteTime": {
     "end_time": "2020-11-11T04:00:28.980154Z",
     "start_time": "2020-11-11T04:00:26.156521Z"
    }
   },
   "outputs": [],
   "source": [
    "import pandas as pd\n",
    "import numpy as np\n",
    "import matplotlib.pyplot as plt\n",
    "\n",
    "import tensorflow.keras as keras\n",
    "from keras.models import Sequential\n",
    "from keras import layers\n",
    "from keras import optimizers\n",
    "from keras.callbacks import ModelCheckpoint\n",
    "from tensorflow.keras.utils import to_categorical"
   ]
  },
  {
   "cell_type": "code",
   "execution_count": 2,
   "metadata": {
    "ExecuteTime": {
     "end_time": "2020-11-11T04:00:29.659969Z",
     "start_time": "2020-11-11T04:00:29.654130Z"
    }
   },
   "outputs": [],
   "source": [
    "path = '../9.데이터/ECG/'"
   ]
  },
  {
   "cell_type": "code",
   "execution_count": 3,
   "metadata": {
    "ExecuteTime": {
     "end_time": "2020-11-11T04:00:30.483779Z",
     "start_time": "2020-11-11T04:00:29.927479Z"
    }
   },
   "outputs": [],
   "source": [
    "# 데이터 불러오기\n",
    "data_normal = pd.read_csv(path + 'ptbdb_normal.csv')\n",
    "data_abnormal = pd.read_csv(path + 'ptbdb_abnormal.csv')\n",
    "\n",
    "# 데이터 배열화\n",
    "data_normal = np.array(data_normal)\n",
    "data_abnormal = np.array(data_abnormal)"
   ]
  },
  {
   "cell_type": "code",
   "execution_count": 4,
   "metadata": {
    "ExecuteTime": {
     "end_time": "2020-11-11T04:00:30.603044Z",
     "start_time": "2020-11-11T04:00:30.503783Z"
    }
   },
   "outputs": [
    {
     "name": "stdout",
     "output_type": "stream",
     "text": [
      "(4045, 188)\n",
      "(10505, 188)\n"
     ]
    },
    {
     "data": {
      "text/plain": [
       "[<matplotlib.lines.Line2D at 0x1fa7a6032c8>]"
      ]
     },
     "execution_count": 4,
     "metadata": {},
     "output_type": "execute_result"
    },
    {
     "data": {
      "image/png": "[encoded data removed]",
      "text/plain": [
       "<Figure size 432x288 with 1 Axes>"
      ]
     },
     "metadata": {
      "needs_background": "light"
     },
     "output_type": "display_data"
    }
   ],
   "source": [
    "# 데이터 확인\n",
    "print(data_normal.shape)\n",
    "print(data_abnormal.shape)\n",
    "\n",
    "plt.plot(data_abnormal[38,:])"
   ]
  },
  {
   "cell_type": "code",
   "execution_count": 5,
   "metadata": {
    "ExecuteTime": {
     "end_time": "2020-11-11T04:00:31.451747Z",
     "start_time": "2020-11-11T04:00:31.439057Z"
    }
   },
   "outputs": [],
   "source": [
    "# 데이터의 마지막에 존재하는 noise 값 제거를 위한 끝단 데이터 10개 제거\n",
    "data_normal = data_normal[:,:data_normal.shape[1]-10]\n",
    "data_abnormal = data_abnormal[:,:data_abnormal.shape[1]-10]"
   ]
  },
  {
   "cell_type": "code",
   "execution_count": 6,
   "metadata": {
    "ExecuteTime": {
     "end_time": "2020-11-11T04:00:32.083307Z",
     "start_time": "2020-11-11T04:00:32.061400Z"
    }
   },
   "outputs": [],
   "source": [
    "# 정상과 비정상의 데이터 개수를 맞추기 및 Train, Test 데이터 생성\n",
    "nTrain = 3000\n",
    "nTest = 1000\n",
    "x_train = np.concatenate((data_normal[:nTrain,:], data_abnormal[:nTrain,:]),0)\n",
    "y_train = np.concatenate((np.zeros(nTrain), np.ones(nTrain)),0)\n",
    "x_test = np.concatenate((data_normal[nTrain:nTrain+nTest,:], data_abnormal[nTrain:nTrain+nTest,:]),0)\n",
    "y_test = np.concatenate((np.zeros(nTest), np.ones(nTest)),0)"
   ]
  },
  {
   "cell_type": "code",
   "execution_count": 7,
   "metadata": {
    "ExecuteTime": {
     "end_time": "2020-11-11T04:00:32.551552Z",
     "start_time": "2020-11-11T04:00:32.534598Z"
    }
   },
   "outputs": [],
   "source": [
    "# 원핫인코딩 수행\n",
    "y_test = to_categorical(y_test)\n",
    "y_train = to_categorical(y_train)\n",
    "\n",
    "# 데이터 차원 추가\n",
    "x_train = np.expand_dims(x_train,-1)\n",
    "x_test = np.expand_dims(x_test,-1)"
   ]
  },
  {
   "cell_type": "code",
   "execution_count": 8,
   "metadata": {
    "ExecuteTime": {
     "end_time": "2020-11-11T04:00:55.826520Z",
     "start_time": "2020-11-11T04:00:33.647259Z"
    },
    "scrolled": false
   },
   "outputs": [
    {
     "name": "stdout",
     "output_type": "stream",
     "text": [
      "Model: \"sequential\"\n",
      "_________________________________________________________________\n",
      "Layer (type)                 Output Shape              Param #   \n",
      "=================================================================\n",
      "conv1d (Conv1D)              (None, 176, 16)           64        \n",
      "_________________________________________________________________\n",
      "conv1d_1 (Conv1D)            (None, 174, 16)           784       \n",
      "_________________________________________________________________\n",
      "max_pooling1d (MaxPooling1D) (None, 86, 16)            0         \n",
      "_________________________________________________________________\n",
      "conv1d_2 (Conv1D)            (None, 84, 32)            1568      \n",
      "_________________________________________________________________\n",
      "conv1d_3 (Conv1D)            (None, 82, 32)            3104      \n",
      "_________________________________________________________________\n",
      "max_pooling1d_1 (MaxPooling1 (None, 40, 32)            0         \n",
      "_________________________________________________________________\n",
      "bidirectional (Bidirectional (None, 32)                6272      \n",
      "_________________________________________________________________\n",
      "dense (Dense)                (None, 2)                 66        \n",
      "=================================================================\n",
      "Total params: 11,858\n",
      "Trainable params: 11,858\n",
      "Non-trainable params: 0\n",
      "_________________________________________________________________\n",
      "Epoch 1/50\n",
      "38/38 [==============================] - 1s 36ms/step - loss: 0.5774 - accuracy: 0.7040 - val_loss: 0.7537 - val_accuracy: 0.5283\n",
      "Epoch 2/50\n",
      "38/38 [==============================] - 0s 7ms/step - loss: 0.4255 - accuracy: 0.8154 - val_loss: 0.5895 - val_accuracy: 0.6892\n",
      "Epoch 3/50\n",
      "38/38 [==============================] - 0s 7ms/step - loss: 0.3615 - accuracy: 0.8510 - val_loss: 0.2372 - val_accuracy: 0.9000\n",
      "Epoch 4/50\n",
      "38/38 [==============================] - 0s 7ms/step - loss: 0.3060 - accuracy: 0.8767 - val_loss: 0.4264 - val_accuracy: 0.8158\n",
      "Epoch 5/50\n",
      "38/38 [==============================] - 0s 7ms/step - loss: 0.3310 - accuracy: 0.8621 - val_loss: 0.3219 - val_accuracy: 0.8575\n",
      "Epoch 6/50\n",
      "38/38 [==============================] - 0s 7ms/step - loss: 0.2557 - accuracy: 0.9008 - val_loss: 0.3517 - val_accuracy: 0.8550\n",
      "Epoch 7/50\n",
      "38/38 [==============================] - 0s 7ms/step - loss: 0.2557 - accuracy: 0.8998 - val_loss: 0.2905 - val_accuracy: 0.8750\n",
      "Epoch 8/50\n",
      "38/38 [==============================] - 0s 7ms/step - loss: 0.2268 - accuracy: 0.9133 - val_loss: 0.3374 - val_accuracy: 0.8717\n",
      "Epoch 9/50\n",
      "38/38 [==============================] - 0s 7ms/step - loss: 0.2099 - accuracy: 0.9283 - val_loss: 0.3554 - val_accuracy: 0.8742\n",
      "Epoch 10/50\n",
      "38/38 [==============================] - 0s 7ms/step - loss: 0.1831 - accuracy: 0.9348 - val_loss: 0.3601 - val_accuracy: 0.8508\n",
      "Epoch 11/50\n",
      "38/38 [==============================] - 0s 7ms/step - loss: 0.1633 - accuracy: 0.9448 - val_loss: 0.1325 - val_accuracy: 0.9542\n",
      "Epoch 12/50\n",
      "38/38 [==============================] - 0s 7ms/step - loss: 0.1647 - accuracy: 0.9440 - val_loss: 0.2808 - val_accuracy: 0.9008\n",
      "Epoch 13/50\n",
      "38/38 [==============================] - 0s 7ms/step - loss: 0.1629 - accuracy: 0.9444 - val_loss: 0.2675 - val_accuracy: 0.8942\n",
      "Epoch 14/50\n",
      "38/38 [==============================] - 0s 8ms/step - loss: 0.1578 - accuracy: 0.9429 - val_loss: 0.1779 - val_accuracy: 0.9258\n",
      "Epoch 15/50\n",
      "38/38 [==============================] - 0s 7ms/step - loss: 0.1494 - accuracy: 0.9473 - val_loss: 0.2368 - val_accuracy: 0.8975\n",
      "Epoch 16/50\n",
      "38/38 [==============================] - 0s 8ms/step - loss: 0.1571 - accuracy: 0.9438 - val_loss: 0.2335 - val_accuracy: 0.9058\n",
      "Epoch 17/50\n",
      "38/38 [==============================] - 0s 7ms/step - loss: 0.1284 - accuracy: 0.9552 - val_loss: 0.2252 - val_accuracy: 0.9033\n",
      "Epoch 18/50\n",
      "38/38 [==============================] - 0s 8ms/step - loss: 0.1217 - accuracy: 0.9583 - val_loss: 0.3669 - val_accuracy: 0.8742\n",
      "Epoch 19/50\n",
      "38/38 [==============================] - 0s 8ms/step - loss: 0.1109 - accuracy: 0.9615 - val_loss: 0.2671 - val_accuracy: 0.8925\n",
      "Epoch 20/50\n",
      "38/38 [==============================] - 0s 8ms/step - loss: 0.1050 - accuracy: 0.9617 - val_loss: 0.1683 - val_accuracy: 0.9350\n",
      "Epoch 21/50\n",
      "38/38 [==============================] - 0s 7ms/step - loss: 0.0879 - accuracy: 0.9700 - val_loss: 0.1263 - val_accuracy: 0.9483\n",
      "Epoch 22/50\n",
      "38/38 [==============================] - 0s 7ms/step - loss: 0.0881 - accuracy: 0.9698 - val_loss: 0.1738 - val_accuracy: 0.9292\n",
      "Epoch 23/50\n",
      "38/38 [==============================] - 0s 8ms/step - loss: 0.0726 - accuracy: 0.9754 - val_loss: 0.1002 - val_accuracy: 0.9650\n",
      "Epoch 24/50\n",
      "38/38 [==============================] - 0s 8ms/step - loss: 0.1024 - accuracy: 0.9619 - val_loss: 0.2283 - val_accuracy: 0.9200\n",
      "Epoch 25/50\n",
      "38/38 [==============================] - 0s 7ms/step - loss: 0.0797 - accuracy: 0.9721 - val_loss: 0.3607 - val_accuracy: 0.8792\n",
      "Epoch 26/50\n",
      "38/38 [==============================] - 0s 7ms/step - loss: 0.0898 - accuracy: 0.9677 - val_loss: 0.1462 - val_accuracy: 0.9483\n",
      "Epoch 27/50\n",
      "38/38 [==============================] - 0s 7ms/step - loss: 0.0966 - accuracy: 0.9650 - val_loss: 0.1460 - val_accuracy: 0.9400\n",
      "Epoch 28/50\n",
      "38/38 [==============================] - 0s 8ms/step - loss: 0.0609 - accuracy: 0.9775 - val_loss: 0.1384 - val_accuracy: 0.9558\n",
      "Epoch 29/50\n",
      "38/38 [==============================] - 0s 7ms/step - loss: 0.0597 - accuracy: 0.9815 - val_loss: 0.0871 - val_accuracy: 0.9700\n",
      "Epoch 30/50\n",
      "38/38 [==============================] - 0s 7ms/step - loss: 0.0754 - accuracy: 0.9737 - val_loss: 0.3425 - val_accuracy: 0.8983\n",
      "Epoch 31/50\n",
      "38/38 [==============================] - 0s 7ms/step - loss: 0.0606 - accuracy: 0.9771 - val_loss: 0.1998 - val_accuracy: 0.9308\n",
      "Epoch 32/50\n",
      "38/38 [==============================] - 0s 7ms/step - loss: 0.0530 - accuracy: 0.9810 - val_loss: 0.1291 - val_accuracy: 0.9575\n",
      "Epoch 33/50\n",
      "38/38 [==============================] - 0s 7ms/step - loss: 0.0482 - accuracy: 0.9837 - val_loss: 0.2274 - val_accuracy: 0.9250\n",
      "Epoch 34/50\n",
      "38/38 [==============================] - 0s 7ms/step - loss: 0.0620 - accuracy: 0.9779 - val_loss: 0.1439 - val_accuracy: 0.9425\n",
      "Epoch 35/50\n",
      "38/38 [==============================] - 0s 7ms/step - loss: 0.0480 - accuracy: 0.9837 - val_loss: 0.2750 - val_accuracy: 0.9208\n",
      "Epoch 36/50\n",
      "38/38 [==============================] - 0s 7ms/step - loss: 0.0631 - accuracy: 0.9750 - val_loss: 0.0974 - val_accuracy: 0.9642\n",
      "Epoch 37/50\n",
      "38/38 [==============================] - 0s 7ms/step - loss: 0.0423 - accuracy: 0.9844 - val_loss: 0.0952 - val_accuracy: 0.9708\n",
      "Epoch 38/50\n",
      "38/38 [==============================] - 0s 7ms/step - loss: 0.0346 - accuracy: 0.9890 - val_loss: 0.2317 - val_accuracy: 0.9250\n",
      "Epoch 39/50\n",
      "38/38 [==============================] - 0s 7ms/step - loss: 0.0309 - accuracy: 0.9900 - val_loss: 0.1047 - val_accuracy: 0.9667\n",
      "Epoch 40/50\n",
      "38/38 [==============================] - 0s 7ms/step - loss: 0.0439 - accuracy: 0.9869 - val_loss: 0.2306 - val_accuracy: 0.9250\n",
      "Epoch 41/50\n",
      "38/38 [==============================] - 0s 7ms/step - loss: 0.0443 - accuracy: 0.9856 - val_loss: 0.2097 - val_accuracy: 0.9308\n",
      "Epoch 42/50\n",
      "38/38 [==============================] - 0s 7ms/step - loss: 0.0386 - accuracy: 0.9865 - val_loss: 0.2399 - val_accuracy: 0.9267\n",
      "Epoch 43/50\n",
      "38/38 [==============================] - 0s 7ms/step - loss: 0.0717 - accuracy: 0.9754 - val_loss: 0.2154 - val_accuracy: 0.9300\n",
      "Epoch 44/50\n",
      "38/38 [==============================] - 0s 7ms/step - loss: 0.0471 - accuracy: 0.9825 - val_loss: 0.1345 - val_accuracy: 0.9483\n",
      "Epoch 45/50\n",
      "38/38 [==============================] - 0s 7ms/step - loss: 0.0411 - accuracy: 0.9846 - val_loss: 0.0715 - val_accuracy: 0.9792\n",
      "Epoch 46/50\n",
      "38/38 [==============================] - 0s 7ms/step - loss: 0.0262 - accuracy: 0.9904 - val_loss: 0.1041 - val_accuracy: 0.9675\n",
      "Epoch 47/50\n",
      "38/38 [==============================] - 0s 7ms/step - loss: 0.0311 - accuracy: 0.9894 - val_loss: 0.3877 - val_accuracy: 0.8892\n",
      "Epoch 48/50\n",
      "38/38 [==============================] - 0s 7ms/step - loss: 0.0701 - accuracy: 0.9752 - val_loss: 0.2051 - val_accuracy: 0.9292\n",
      "Epoch 49/50\n"
     ]
    },
    {
     "name": "stdout",
     "output_type": "stream",
     "text": [
      "38/38 [==============================] - 0s 7ms/step - loss: 0.0719 - accuracy: 0.9725 - val_loss: 0.1367 - val_accuracy: 0.9483\n",
      "Epoch 50/50\n",
      "38/38 [==============================] - 0s 8ms/step - loss: 0.0465 - accuracy: 0.9850 - val_loss: 0.1973 - val_accuracy: 0.9358\n"
     ]
    },
    {
     "data": {
      "text/plain": [
       "<tensorflow.python.keras.callbacks.History at 0x1fb884d2448>"
      ]
     },
     "execution_count": 8,
     "metadata": {},
     "output_type": "execute_result"
    }
   ],
   "source": [
    "# 모델 구조 생성 및 컴파일 및 학습진행\n",
    "\n",
    "model = Sequential()\n",
    "model.add(layers.Conv1D(filters=16, kernel_size=3, input_shape=(x_train.shape[1],1), activation = 'relu'))\n",
    "model.add(layers.Conv1D(filters=16, kernel_size=3, activation = 'relu'))\n",
    "model.add(layers.MaxPooling1D(pool_size = 3, strides=2))\n",
    "model.add(layers.Conv1D(filters=32, kernel_size=3, input_shape=(x_train.shape[1],1), activation = 'relu'))\n",
    "model.add(layers.Conv1D(filters=32, kernel_size=3, activation = 'relu'))\n",
    "model.add(layers.MaxPooling1D(pool_size = 3, strides=2))\n",
    "model.add(layers.Bidirectional(layers.LSTM(16)))\n",
    "model.add(layers.Dense(units=2, activation='softmax'))\n",
    "model.compile(loss='categorical_crossentropy', optimizer=optimizers.Adam(lr=0.01), metrics=['accuracy'])\n",
    "model.summary()\n",
    "\n",
    "model.fit(x_train, y_train, epochs = 50, batch_size=128, validation_split=0.2)"
   ]
  },
  {
   "cell_type": "code",
   "execution_count": 9,
   "metadata": {
    "ExecuteTime": {
     "end_time": "2020-11-11T04:08:38.077823Z",
     "start_time": "2020-11-11T04:08:37.149304Z"
    }
   },
   "outputs": [
    {
     "data": {
      "text/plain": [
       "0.9669999999999489"
      ]
     },
     "execution_count": 9,
     "metadata": {},
     "output_type": "execute_result"
    }
   ],
   "source": [
    "# 모델 검증\n",
    "o = model.predict(x_test)\n",
    "o = np.argmax(o,1)\n",
    "y_test = np.argmax(y_test,1)\n",
    "\n",
    "sum(np.equal(y_test, o)/len(y_test))"
   ]
  },
  {
   "cell_type": "code",
   "execution_count": null,
   "metadata": {},
   "outputs": [],
   "source": []
  }
 ],
 "metadata": {
  "kernelspec": {
   "display_name": "Python 3",
   "language": "python",
   "name": "python3"
  },
  "language_info": {
   "codemirror_mode": {
    "name": "ipython",
    "version": 3
   },
   "file_extension": ".py",
   "mimetype": "text/x-python",
   "name": "python",
   "nbconvert_exporter": "python",
   "pygments_lexer": "ipython3",
   "version": "3.7.9"
  },
  "toc": {
   "base_numbering": 1,
   "nav_menu": {},
   "number_sections": true,
   "sideBar": true,
   "skip_h1_title": false,
   "title_cell": "Table of Contents",
   "title_sidebar": "Contents",
   "toc_cell": false,
   "toc_position": {},
   "toc_section_display": true,
   "toc_window_display": false
  },
  "varInspector": {
   "cols": {
    "lenName": 16,
    "lenType": 16,
    "lenVar": 40
   },
   "kernels_config": {
    "python": {
     "delete_cmd_postfix": "",
     "delete_cmd_prefix": "del ",
     "library": "var_list.py",
     "varRefreshCmd": "print(var_dic_list())"
    },
    "r": {
     "delete_cmd_postfix": ") ",
     "delete_cmd_prefix": "rm(",
     "library": "var_list.r",
     "varRefreshCmd": "cat(var_dic_list()) "
    }
   },
   "types_to_exclude": [
    "module",
    "function",
    "builtin_function_or_method",
    "instance",
    "_Feature"
   ],
   "window_display": false
  }
 },
 "nbformat": 4,
 "nbformat_minor": 4
}
