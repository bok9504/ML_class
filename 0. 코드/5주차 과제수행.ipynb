{
 "cells": [
  {
   "cell_type": "markdown",
   "metadata": {},
   "source": [
    "# 인공지능시스템설계"
   ]
  },
  {
   "cell_type": "markdown",
   "metadata": {},
   "source": [
    "## 5주차 과제 수행"
   ]
  },
  {
   "cell_type": "markdown",
   "metadata": {},
   "source": [
    "### 1. 콜라츠 추측에서 주어진 숫자를 1로 만들기 위해 계산해야 하는 횟수를 체크하도록 기존 코드(동영상에서 설명한 코드)를 수정하라. 수정된 코드와 실행화면 캡쳐를 리포트에 작성하라"
   ]
  },
  {
   "cell_type": "code",
   "execution_count": 9,
   "metadata": {},
   "outputs": [
    {
     "name": "stdout",
     "output_type": "stream",
     "text": [
      "입력숫자 : 3460434705841046\n",
      "콜라츠 추측이 성립함을 확인했습니다.\n",
      "계산횟수는 406회 입니다.\n"
     ]
    }
   ],
   "source": [
    "n = 3460434705841046\n",
    "print(\"입력숫자 : {}\".format(n))\n",
    "\n",
    "re_num = 0     ## 반복횟수\n",
    "\n",
    "while n != 1:    \n",
    "    if n%2 == 0:\n",
    "        n = n/2        \n",
    "    else:\n",
    "        n = n*3 + 1\n",
    "    re_num = re_num + 1\n",
    "    \n",
    "print(\"콜라츠 추측이 성립함을 확인했습니다.\")\n",
    "print(\"계산횟수는 {}회 입니다.\".format(re_num))"
   ]
  },
  {
   "cell_type": "markdown",
   "metadata": {},
   "source": [
    "### 2. 다음을 순서대로 수행하는 코드를 작성하고, 수정된 코드와 실행화면 캡쳐를 리포트에 작성하라.\n",
    "\n",
    "- 0과 1 사이의 랜덤한 값을 가지는 2차원배열(5행 4열)을 만드시오.\n",
    "\n",
    "- reshape 함수를 사용하여 2행 10열 크기의 배열로 변환하라\n",
    "\n",
    "- 새로운 차원축(세 번째 차원축)을 추가하라 (expand_dims 함수를 사용). \n",
    "\n",
    "- 3열에서 5열까지의  값을 0으로 바꾸라.\n",
    "\n",
    "* 리포트 포멧은, 지난 주차에 사용한 형식을 내용만 바꾸어 사용하기 바랍니다."
   ]
  },
  {
   "cell_type": "code",
   "execution_count": 68,
   "metadata": {},
   "outputs": [
    {
     "name": "stdout",
     "output_type": "stream",
     "text": [
      "[[[0.00159153]\n",
      "  [0.86776808]\n",
      "  [0.        ]\n",
      "  [0.        ]\n",
      "  [0.        ]\n",
      "  [0.46396291]\n",
      "  [0.07542228]\n",
      "  [0.66113761]\n",
      "  [0.51448144]\n",
      "  [0.63526172]]\n",
      "\n",
      " [[0.69045648]\n",
      "  [0.18033787]\n",
      "  [0.        ]\n",
      "  [0.        ]\n",
      "  [0.        ]\n",
      "  [0.0874804 ]\n",
      "  [0.73099162]\n",
      "  [0.02313006]\n",
      "  [0.44055893]\n",
      "  [0.32579592]]]\n"
     ]
    }
   ],
   "source": [
    "import numpy as np\n",
    "\n",
    "num = np.random.rand(5,4)\n",
    "num = np.reshape(num,(2,-1))\n",
    "num = np.expand_dims(num, 2)\n",
    "num[:, 2:5] = 0\n",
    "\n",
    "print(num)"
   ]
  },
  {
   "cell_type": "code",
   "execution_count": null,
   "metadata": {},
   "outputs": [],
   "source": []
  }
 ],
 "metadata": {
  "kernelspec": {
   "display_name": "Python 3",
   "language": "python",
   "name": "python3"
  },
  "language_info": {
   "codemirror_mode": {
    "name": "ipython",
    "version": 3
   },
   "file_extension": ".py",
   "mimetype": "text/x-python",
   "name": "python",
   "nbconvert_exporter": "python",
   "pygments_lexer": "ipython3",
   "version": "3.7.9"
  }
 },
 "nbformat": 4,
 "nbformat_minor": 4
}
