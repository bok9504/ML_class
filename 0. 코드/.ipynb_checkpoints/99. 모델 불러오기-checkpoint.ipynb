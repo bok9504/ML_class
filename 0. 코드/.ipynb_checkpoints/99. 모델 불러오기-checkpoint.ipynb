{
 "cells": [
  {
   "cell_type": "code",
   "execution_count": 1,
   "metadata": {
    "ExecuteTime": {
     "end_time": "2020-11-06T04:59:25.778031Z",
     "start_time": "2020-11-06T04:59:23.137200Z"
    }
   },
   "outputs": [],
   "source": [
    "import pandas as pd\n",
    "import numpy as np\n",
    "from keras.models import model_from_json\n",
    "\n",
    "# json 기반으로 저장한 모델 불러오는 def(모델위치,파일이름)\n",
    "def json_model_opener(MODEL_SAVE_FOLDER_PATH,file_name):\n",
    "    # model.json 파일 열기\n",
    "    json_file = open(MODEL_SAVE_FOLDER_PATH+file_name+'.json', \"r\") \n",
    "    loaded_model_json = json_file.read() \n",
    "    json_file.close() \n",
    "    # json파일로부터 model 로드하기\n",
    "    loaded_model = model_from_json(loaded_model_json)\n",
    "    # weight 로드\n",
    "    loaded_model.load_weights(MODEL_SAVE_FOLDER_PATH+file_name+\".h5\") \n",
    "    print(\"Loaded model from disk\")\n",
    "    return loaded_model"
   ]
  },
  {
   "cell_type": "code",
   "execution_count": 3,
   "metadata": {
    "ExecuteTime": {
     "end_time": "2020-11-06T04:59:36.823669Z",
     "start_time": "2020-11-06T04:59:36.774227Z"
    }
   },
   "outputs": [
    {
     "name": "stdout",
     "output_type": "stream",
     "text": [
      "Loaded model from disk\n"
     ]
    }
   ],
   "source": [
    "MODEL_SAVE_FOLDER_PATH = '../2.모델저장/'\n",
    "file_name = 'test'\n",
    "\n",
    "model = json_model_opener(MODEL_SAVE_FOLDER_PATH, file_name)"
   ]
  },
  {
   "cell_type": "code",
   "execution_count": 6,
   "metadata": {
    "ExecuteTime": {
     "end_time": "2020-11-06T04:58:21.871352Z",
     "start_time": "2020-11-06T04:58:21.422295Z"
    }
   },
   "outputs": [],
   "source": [
    "data_test = pd.read_csv('../9.데이터/mnist/mnist_test.csv', header=None)\n",
    "data_test = np.array(data_test)\n",
    "\n",
    "x_test = data_test[:, 1:]\n",
    "y_test = data_test[:, 0]\n",
    "x_test = x_test.reshape(x_test.shape[0],28,28)\n",
    "x_test_in = np.expand_dims(x_test, -1)"
   ]
  },
  {
   "cell_type": "code",
   "execution_count": 8,
   "metadata": {
    "ExecuteTime": {
     "end_time": "2020-11-06T04:58:37.367673Z",
     "start_time": "2020-11-06T04:58:37.110116Z"
    }
   },
   "outputs": [
    {
     "data": {
      "text/plain": [
       "0.9775"
      ]
     },
     "execution_count": 8,
     "metadata": {},
     "output_type": "execute_result"
    }
   ],
   "source": [
    "o = model.predict(x_test_in)\n",
    "o_result = np.argmax(o,1)\n",
    "sum(o_result == y_test)/10000"
   ]
  },
  {
   "cell_type": "code",
   "execution_count": null,
   "metadata": {},
   "outputs": [],
   "source": []
  }
 ],
 "metadata": {
  "kernelspec": {
   "display_name": "Python 3",
   "language": "python",
   "name": "python3"
  },
  "language_info": {
   "codemirror_mode": {
    "name": "ipython",
    "version": 3
   },
   "file_extension": ".py",
   "mimetype": "text/x-python",
   "name": "python",
   "nbconvert_exporter": "python",
   "pygments_lexer": "ipython3",
   "version": "3.7.9"
  },
  "toc": {
   "base_numbering": 1,
   "nav_menu": {},
   "number_sections": true,
   "sideBar": true,
   "skip_h1_title": false,
   "title_cell": "Table of Contents",
   "title_sidebar": "Contents",
   "toc_cell": false,
   "toc_position": {},
   "toc_section_display": true,
   "toc_window_display": false
  },
  "varInspector": {
   "cols": {
    "lenName": 16,
    "lenType": 16,
    "lenVar": 40
   },
   "kernels_config": {
    "python": {
     "delete_cmd_postfix": "",
     "delete_cmd_prefix": "del ",
     "library": "var_list.py",
     "varRefreshCmd": "print(var_dic_list())"
    },
    "r": {
     "delete_cmd_postfix": ") ",
     "delete_cmd_prefix": "rm(",
     "library": "var_list.r",
     "varRefreshCmd": "cat(var_dic_list()) "
    }
   },
   "types_to_exclude": [
    "module",
    "function",
    "builtin_function_or_method",
    "instance",
    "_Feature"
   ],
   "window_display": false
  }
 },
 "nbformat": 4,
 "nbformat_minor": 4
}
