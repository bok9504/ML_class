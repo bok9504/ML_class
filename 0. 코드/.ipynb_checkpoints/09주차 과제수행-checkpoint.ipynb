{
 "cells": [
  {
   "cell_type": "markdown",
   "metadata": {},
   "source": [
    "# Mnist 글씨체 학습"
   ]
  },
  {
   "cell_type": "markdown",
   "metadata": {},
   "source": [
    "## 기본 예제"
   ]
  },
  {
   "cell_type": "code",
   "execution_count": 20,
   "metadata": {
    "ExecuteTime": {
     "end_time": "2020-11-06T02:23:42.510427Z",
     "start_time": "2020-11-06T02:23:42.497427Z"
    }
   },
   "outputs": [],
   "source": [
    "import pandas as pd\n",
    "import numpy as np\n",
    "import matplotlib.pyplot as plt\n",
    "\n",
    "import os\n",
    "import tensorflow.keras as keras\n",
    "from keras.models import Sequential\n",
    "from keras import layers\n",
    "from keras import optimizers\n",
    "from keras.layers.convolutional import MaxPooling2D\n",
    "from keras.callbacks import ModelCheckpoint\n"
   ]
  },
  {
   "cell_type": "code",
   "execution_count": 2,
   "metadata": {
    "ExecuteTime": {
     "end_time": "2020-11-06T01:42:35.484019Z",
     "start_time": "2020-11-06T01:42:34.599959Z"
    }
   },
   "outputs": [],
   "source": [
    "data = pd.read_csv('../9.데이터/mnist/mnist_train_small.csv', header=None)\n",
    "data = np.array(data)"
   ]
  },
  {
   "cell_type": "code",
   "execution_count": 3,
   "metadata": {
    "ExecuteTime": {
     "end_time": "2020-11-06T01:42:35.513917Z",
     "start_time": "2020-11-06T01:42:35.499920Z"
    }
   },
   "outputs": [],
   "source": [
    "x_train = data[:, 1:]\n",
    "y_train = data[:, 0]\n",
    "\n",
    "x_train = x_train.reshape(x_train.shape[0],28,28)\n",
    "x_train = np.expand_dims(x_train, -1)\n",
    "y_train = keras.utils.to_categorical(y_train)"
   ]
  },
  {
   "cell_type": "code",
   "execution_count": 4,
   "metadata": {
    "ExecuteTime": {
     "end_time": "2020-11-06T01:42:35.634285Z",
     "start_time": "2020-11-06T01:42:35.530257Z"
    }
   },
   "outputs": [
    {
     "data": {
      "text/plain": [
       "array([0., 0., 0., 0., 0., 0., 1., 0., 0., 0.], dtype=float32)"
      ]
     },
     "execution_count": 4,
     "metadata": {},
     "output_type": "execute_result"
    },
    {
     "data": {
      "image/png": "[encoded data removed]",
      "text/plain": [
       "<Figure size 432x288 with 1 Axes>"
      ]
     },
     "metadata": {
      "needs_background": "light"
     },
     "output_type": "display_data"
    }
   ],
   "source": [
    "plt.imshow(x_train[0,:,:])\n",
    "y_train[0]"
   ]
  },
  {
   "cell_type": "code",
   "execution_count": 5,
   "metadata": {
    "ExecuteTime": {
     "end_time": "2020-11-06T01:42:36.114288Z",
     "start_time": "2020-11-06T01:42:35.650258Z"
    }
   },
   "outputs": [],
   "source": [
    "data_test = pd.read_csv('../9.데이터/mnist/mnist_test.csv', header=None)\n",
    "data_test = np.array(data_test)\n",
    "\n",
    "x_test = data_test[:, 1:]\n",
    "y_test = data_test[:, 0]\n",
    "x_test = x_test.reshape(x_test.shape[0],28,28)\n",
    "x_test_in = np.expand_dims(x_test, -1)"
   ]
  },
  {
   "cell_type": "code",
   "execution_count": 18,
   "metadata": {
    "ExecuteTime": {
     "end_time": "2020-11-04T09:19:29.268133Z",
     "start_time": "2020-11-04T09:19:19.871418Z"
    },
    "scrolled": true
   },
   "outputs": [
    {
     "name": "stdout",
     "output_type": "stream",
     "text": [
      "Epoch 1/10\n",
      "219/219 [==============================] - 1s 5ms/step - loss: 4.0946 - accuracy: 0.8496 - val_loss: 0.2228 - val_accuracy: 0.9443\n",
      "Epoch 2/10\n",
      "219/219 [==============================] - 1s 4ms/step - loss: 0.1062 - accuracy: 0.9691 - val_loss: 0.1504 - val_accuracy: 0.9595\n",
      "Epoch 3/10\n",
      "219/219 [==============================] - 1s 4ms/step - loss: 0.0360 - accuracy: 0.9901 - val_loss: 0.1789 - val_accuracy: 0.9613\n",
      "Epoch 4/10\n",
      "219/219 [==============================] - 1s 4ms/step - loss: 0.0139 - accuracy: 0.9955 - val_loss: 0.2351 - val_accuracy: 0.9637\n",
      "Epoch 5/10\n",
      "219/219 [==============================] - 1s 4ms/step - loss: 0.0066 - accuracy: 0.9981 - val_loss: 0.2572 - val_accuracy: 0.9658\n",
      "Epoch 6/10\n",
      "219/219 [==============================] - 1s 4ms/step - loss: 0.0046 - accuracy: 0.9986 - val_loss: 0.2536 - val_accuracy: 0.9693\n",
      "Epoch 7/10\n",
      "219/219 [==============================] - 1s 4ms/step - loss: 0.0023 - accuracy: 0.9993 - val_loss: 0.2815 - val_accuracy: 0.9692\n",
      "Epoch 8/10\n",
      "219/219 [==============================] - 1s 4ms/step - loss: 0.0014 - accuracy: 0.9996 - val_loss: 0.3470 - val_accuracy: 0.9695\n",
      "Epoch 9/10\n",
      "219/219 [==============================] - 1s 4ms/step - loss: 8.3607e-04 - accuracy: 0.9996 - val_loss: 0.3467 - val_accuracy: 0.9692\n",
      "Epoch 10/10\n",
      "219/219 [==============================] - 1s 4ms/step - loss: 0.0011 - accuracy: 0.9994 - val_loss: 0.3595 - val_accuracy: 0.9702\n"
     ]
    }
   ],
   "source": [
    "model = Sequential()\n",
    "model.add(layers.Conv2D(filters=8, kernel_size = 3, input_shape=(28,28,1), activation='relu'))\n",
    "model.add(layers.Conv2D(filters=16, kernel_size = 3, activation='relu'))\n",
    "model.add(layers.Flatten())\n",
    "model.add(layers.Dense(units=10, activation='softmax'))\n",
    "model.compile(loss ='categorical_crossentropy', optimizer=optimizers.RMSprop(lr=0.001), metrics=['accuracy'])\n",
    "\n",
    "hist = model.fit(x_train, y_train, epochs=10, batch_size=64, validation_split=0.3)"
   ]
  },
  {
   "cell_type": "code",
   "execution_count": 20,
   "metadata": {
    "ExecuteTime": {
     "end_time": "2020-11-04T09:19:33.873001Z",
     "start_time": "2020-11-04T09:19:33.526576Z"
    }
   },
   "outputs": [],
   "source": [
    "o = model.predict(x_test_in)"
   ]
  },
  {
   "cell_type": "code",
   "execution_count": 21,
   "metadata": {
    "ExecuteTime": {
     "end_time": "2020-11-04T09:19:33.949051Z",
     "start_time": "2020-11-04T09:19:33.945052Z"
    }
   },
   "outputs": [],
   "source": [
    "o_result = np.argmax(o,1)"
   ]
  },
  {
   "cell_type": "code",
   "execution_count": 22,
   "metadata": {
    "ExecuteTime": {
     "end_time": "2020-11-04T09:19:34.327023Z",
     "start_time": "2020-11-04T09:19:34.303332Z"
    }
   },
   "outputs": [
    {
     "data": {
      "text/plain": [
       "0.9682"
      ]
     },
     "execution_count": 22,
     "metadata": {},
     "output_type": "execute_result"
    }
   ],
   "source": [
    "sum(o_result == y_test)/10000"
   ]
  },
  {
   "cell_type": "markdown",
   "metadata": {},
   "source": [
    "## 예제 변형"
   ]
  },
  {
   "cell_type": "markdown",
   "metadata": {},
   "source": [
    "### MaxPooling 레이어 추가"
   ]
  },
  {
   "cell_type": "markdown",
   "metadata": {},
   "source": [
    "#### 1개 추가"
   ]
  },
  {
   "cell_type": "code",
   "execution_count": 23,
   "metadata": {
    "ExecuteTime": {
     "end_time": "2020-11-04T09:20:05.160252Z",
     "start_time": "2020-11-04T09:19:55.934240Z"
    },
    "scrolled": true
   },
   "outputs": [
    {
     "name": "stdout",
     "output_type": "stream",
     "text": [
      "Epoch 1/10\n",
      "219/219 [==============================] - 1s 5ms/step - loss: 1.8770 - accuracy: 0.8154 - val_loss: 0.2477 - val_accuracy: 0.9338\n",
      "Epoch 2/10\n",
      "219/219 [==============================] - 1s 4ms/step - loss: 0.1523 - accuracy: 0.9558 - val_loss: 0.1444 - val_accuracy: 0.9592\n",
      "Epoch 3/10\n",
      "219/219 [==============================] - 1s 4ms/step - loss: 0.0707 - accuracy: 0.9810 - val_loss: 0.1323 - val_accuracy: 0.9645\n",
      "Epoch 4/10\n",
      "219/219 [==============================] - 1s 4ms/step - loss: 0.0357 - accuracy: 0.9889 - val_loss: 0.1357 - val_accuracy: 0.9687\n",
      "Epoch 5/10\n",
      "219/219 [==============================] - 1s 4ms/step - loss: 0.0223 - accuracy: 0.9923 - val_loss: 0.1521 - val_accuracy: 0.9692\n",
      "Epoch 6/10\n",
      "219/219 [==============================] - 1s 4ms/step - loss: 0.0112 - accuracy: 0.9964 - val_loss: 0.1411 - val_accuracy: 0.9730\n",
      "Epoch 7/10\n",
      "219/219 [==============================] - 1s 4ms/step - loss: 0.0070 - accuracy: 0.9976 - val_loss: 0.1732 - val_accuracy: 0.9735\n",
      "Epoch 8/10\n",
      "219/219 [==============================] - 1s 4ms/step - loss: 0.0062 - accuracy: 0.9981 - val_loss: 0.1730 - val_accuracy: 0.9737\n",
      "Epoch 9/10\n",
      "219/219 [==============================] - 1s 4ms/step - loss: 0.0029 - accuracy: 0.9989 - val_loss: 0.1854 - val_accuracy: 0.9713\n",
      "Epoch 10/10\n",
      "219/219 [==============================] - 1s 4ms/step - loss: 0.0030 - accuracy: 0.9991 - val_loss: 0.2048 - val_accuracy: 0.9730\n"
     ]
    }
   ],
   "source": [
    "model = Sequential()\n",
    "model.add(layers.Conv2D(filters=8, kernel_size = 3, input_shape=(28,28,1), activation='relu'))\n",
    "model.add(layers.Conv2D(filters=16, kernel_size = 3, activation='relu'))\n",
    "model.add(MaxPooling2D(pool_size = (2,2)))\n",
    "model.add(layers.Flatten())\n",
    "model.add(layers.Dense(units=10, activation='softmax'))\n",
    "model.compile(loss ='categorical_crossentropy', optimizer=optimizers.RMSprop(lr=0.001), metrics=['accuracy'])\n",
    "\n",
    "hist = model.fit(x_train, y_train, epochs=10, batch_size=64, validation_split=0.3)"
   ]
  },
  {
   "cell_type": "code",
   "execution_count": 25,
   "metadata": {
    "ExecuteTime": {
     "end_time": "2020-11-04T09:20:05.687030Z",
     "start_time": "2020-11-04T09:20:05.416560Z"
    }
   },
   "outputs": [
    {
     "data": {
      "text/plain": [
       "0.9718"
      ]
     },
     "execution_count": 25,
     "metadata": {},
     "output_type": "execute_result"
    }
   ],
   "source": [
    "o = model.predict(x_test_in)\n",
    "o_result = np.argmax(o,1)\n",
    "sum(o_result == y_test)/10000"
   ]
  },
  {
   "cell_type": "markdown",
   "metadata": {},
   "source": [
    "#### 2개 추가"
   ]
  },
  {
   "cell_type": "code",
   "execution_count": 26,
   "metadata": {
    "ExecuteTime": {
     "end_time": "2020-11-04T09:20:54.713990Z",
     "start_time": "2020-11-04T09:20:46.863036Z"
    },
    "scrolled": true
   },
   "outputs": [
    {
     "name": "stdout",
     "output_type": "stream",
     "text": [
      "Epoch 1/10\n",
      "219/219 [==============================] - 1s 4ms/step - loss: 2.9919 - accuracy: 0.7774 - val_loss: 0.5016 - val_accuracy: 0.9155\n",
      "Epoch 2/10\n",
      "219/219 [==============================] - 1s 3ms/step - loss: 0.3459 - accuracy: 0.9283 - val_loss: 0.3311 - val_accuracy: 0.9320\n",
      "Epoch 3/10\n",
      "219/219 [==============================] - 1s 3ms/step - loss: 0.1798 - accuracy: 0.9547 - val_loss: 0.2361 - val_accuracy: 0.9472\n",
      "Epoch 4/10\n",
      "219/219 [==============================] - 1s 3ms/step - loss: 0.1171 - accuracy: 0.9680 - val_loss: 0.2136 - val_accuracy: 0.9495\n",
      "Epoch 5/10\n",
      "219/219 [==============================] - 1s 3ms/step - loss: 0.0864 - accuracy: 0.9754 - val_loss: 0.1910 - val_accuracy: 0.9565\n",
      "Epoch 6/10\n",
      "219/219 [==============================] - 1s 3ms/step - loss: 0.0670 - accuracy: 0.9801 - val_loss: 0.1869 - val_accuracy: 0.9577\n",
      "Epoch 7/10\n",
      "219/219 [==============================] - 1s 3ms/step - loss: 0.0539 - accuracy: 0.9841 - val_loss: 0.1700 - val_accuracy: 0.9622\n",
      "Epoch 8/10\n",
      "219/219 [==============================] - 1s 3ms/step - loss: 0.0424 - accuracy: 0.9868 - val_loss: 0.1334 - val_accuracy: 0.9720\n",
      "Epoch 9/10\n",
      "219/219 [==============================] - 1s 3ms/step - loss: 0.0356 - accuracy: 0.9881 - val_loss: 0.1521 - val_accuracy: 0.9692\n",
      "Epoch 10/10\n",
      "219/219 [==============================] - 1s 3ms/step - loss: 0.0301 - accuracy: 0.9901 - val_loss: 0.1532 - val_accuracy: 0.9700\n"
     ]
    }
   ],
   "source": [
    "model = Sequential()\n",
    "model.add(layers.Conv2D(filters=8, kernel_size = 3, input_shape=(28,28,1), activation='relu'))\n",
    "model.add(MaxPooling2D(pool_size = (2,2)))\n",
    "model.add(layers.Conv2D(filters=16, kernel_size = 3, activation='relu'))\n",
    "model.add(MaxPooling2D(pool_size = (2,2)))\n",
    "model.add(layers.Flatten())\n",
    "model.add(layers.Dense(units=10, activation='softmax'))\n",
    "model.compile(loss ='categorical_crossentropy', optimizer=optimizers.RMSprop(lr=0.001), metrics=['accuracy'])\n",
    "\n",
    "hist = model.fit(x_train, y_train, epochs=10, batch_size=64, validation_split=0.3)"
   ]
  },
  {
   "cell_type": "code",
   "execution_count": 28,
   "metadata": {
    "ExecuteTime": {
     "end_time": "2020-11-04T09:20:55.253996Z",
     "start_time": "2020-11-04T09:20:54.954939Z"
    }
   },
   "outputs": [
    {
     "data": {
      "text/plain": [
       "0.9728"
      ]
     },
     "execution_count": 28,
     "metadata": {},
     "output_type": "execute_result"
    }
   ],
   "source": [
    "o = model.predict(x_test_in)\n",
    "o_result = np.argmax(o,1)\n",
    "sum(o_result == y_test)/10000"
   ]
  },
  {
   "cell_type": "markdown",
   "metadata": {},
   "source": [
    "### 뉴런개수 추가"
   ]
  },
  {
   "cell_type": "code",
   "execution_count": 29,
   "metadata": {
    "ExecuteTime": {
     "end_time": "2020-11-04T09:21:06.284504Z",
     "start_time": "2020-11-04T09:20:55.285035Z"
    },
    "scrolled": true
   },
   "outputs": [
    {
     "name": "stdout",
     "output_type": "stream",
     "text": [
      "Epoch 1/10\n",
      "219/219 [==============================] - 1s 6ms/step - loss: 1.4091 - accuracy: 0.8734 - val_loss: 0.1531 - val_accuracy: 0.9512\n",
      "Epoch 2/10\n",
      "219/219 [==============================] - 1s 5ms/step - loss: 0.1068 - accuracy: 0.9668 - val_loss: 0.1406 - val_accuracy: 0.9628\n",
      "Epoch 3/10\n",
      "219/219 [==============================] - 1s 5ms/step - loss: 0.0589 - accuracy: 0.9816 - val_loss: 0.1174 - val_accuracy: 0.9698\n",
      "Epoch 4/10\n",
      "219/219 [==============================] - 1s 5ms/step - loss: 0.0403 - accuracy: 0.9880 - val_loss: 0.1191 - val_accuracy: 0.9718\n",
      "Epoch 5/10\n",
      "219/219 [==============================] - 1s 4ms/step - loss: 0.0244 - accuracy: 0.9923 - val_loss: 0.1371 - val_accuracy: 0.9737\n",
      "Epoch 6/10\n",
      "219/219 [==============================] - 1s 5ms/step - loss: 0.0169 - accuracy: 0.9946 - val_loss: 0.1583 - val_accuracy: 0.9737\n",
      "Epoch 7/10\n",
      "219/219 [==============================] - 1s 5ms/step - loss: 0.0104 - accuracy: 0.9964 - val_loss: 0.1682 - val_accuracy: 0.9743\n",
      "Epoch 8/10\n",
      "219/219 [==============================] - 1s 5ms/step - loss: 0.0076 - accuracy: 0.9974 - val_loss: 0.1882 - val_accuracy: 0.9768\n",
      "Epoch 9/10\n",
      "219/219 [==============================] - 1s 5ms/step - loss: 0.0065 - accuracy: 0.9981 - val_loss: 0.2264 - val_accuracy: 0.9750\n",
      "Epoch 10/10\n",
      "219/219 [==============================] - 1s 5ms/step - loss: 0.0056 - accuracy: 0.9984 - val_loss: 0.2254 - val_accuracy: 0.9760\n"
     ]
    }
   ],
   "source": [
    "model = Sequential()\n",
    "model.add(layers.Conv2D(filters=16, kernel_size = 3, input_shape=(28,28,1), activation='relu'))\n",
    "model.add(layers.Conv2D(filters=32, kernel_size = 3, activation='relu'))\n",
    "model.add(MaxPooling2D(pool_size = (2,2)))\n",
    "model.add(layers.Flatten())\n",
    "model.add(layers.Dense(units=10, activation='softmax'))\n",
    "model.compile(loss ='categorical_crossentropy', optimizer=optimizers.RMSprop(lr=0.001), metrics=['accuracy'])\n",
    "\n",
    "hist = model.fit(x_train, y_train, epochs=10, batch_size=64, validation_split=0.3)"
   ]
  },
  {
   "cell_type": "code",
   "execution_count": 31,
   "metadata": {
    "ExecuteTime": {
     "end_time": "2020-11-04T09:21:06.899269Z",
     "start_time": "2020-11-04T09:21:06.510510Z"
    }
   },
   "outputs": [
    {
     "data": {
      "text/plain": [
       "0.9775"
      ]
     },
     "execution_count": 31,
     "metadata": {},
     "output_type": "execute_result"
    }
   ],
   "source": [
    "o = model.predict(x_test_in)\n",
    "o_result = np.argmax(o,1)\n",
    "sum(o_result == y_test)/10000"
   ]
  },
  {
   "cell_type": "markdown",
   "metadata": {},
   "source": [
    "### Dense 레이어 추가"
   ]
  },
  {
   "cell_type": "code",
   "execution_count": 7,
   "metadata": {
    "ExecuteTime": {
     "end_time": "2020-11-05T06:23:36.656072Z",
     "start_time": "2020-11-05T06:23:22.598910Z"
    },
    "scrolled": true
   },
   "outputs": [
    {
     "name": "stdout",
     "output_type": "stream",
     "text": [
      "Epoch 1/10\n",
      "219/219 [==============================] - 1s 6ms/step - loss: 0.9781 - accuracy: 0.8861 - val_loss: 0.1554 - val_accuracy: 0.9585\n",
      "Epoch 2/10\n",
      "219/219 [==============================] - 1s 5ms/step - loss: 0.0961 - accuracy: 0.9714 - val_loss: 0.1701 - val_accuracy: 0.9577\n",
      "Epoch 3/10\n",
      "219/219 [==============================] - 1s 5ms/step - loss: 0.0473 - accuracy: 0.9859 - val_loss: 0.1033 - val_accuracy: 0.9783\n",
      "Epoch 4/10\n",
      "219/219 [==============================] - 1s 5ms/step - loss: 0.0259 - accuracy: 0.9912 - val_loss: 0.1792 - val_accuracy: 0.9672\n",
      "Epoch 5/10\n",
      "219/219 [==============================] - 1s 5ms/step - loss: 0.0192 - accuracy: 0.9945 - val_loss: 0.2028 - val_accuracy: 0.9693\n",
      "Epoch 6/10\n",
      "219/219 [==============================] - 1s 5ms/step - loss: 0.0147 - accuracy: 0.9956 - val_loss: 0.2635 - val_accuracy: 0.9660\n",
      "Epoch 7/10\n",
      "219/219 [==============================] - 1s 5ms/step - loss: 0.0168 - accuracy: 0.9962 - val_loss: 0.1934 - val_accuracy: 0.9790\n",
      "Epoch 8/10\n",
      "219/219 [==============================] - 1s 5ms/step - loss: 0.0113 - accuracy: 0.9971 - val_loss: 0.1975 - val_accuracy: 0.9748\n",
      "Epoch 9/10\n",
      "219/219 [==============================] - 1s 5ms/step - loss: 0.0070 - accuracy: 0.9981 - val_loss: 0.2061 - val_accuracy: 0.9772\n",
      "Epoch 10/10\n",
      "219/219 [==============================] - 1s 5ms/step - loss: 0.0041 - accuracy: 0.9989 - val_loss: 0.2637 - val_accuracy: 0.9760\n"
     ]
    }
   ],
   "source": [
    "model = Sequential()\n",
    "model.add(layers.Conv2D(filters=16, kernel_size = 3, input_shape=(28,28,1), activation='relu'))\n",
    "model.add(layers.Conv2D(filters=32, kernel_size = 3, activation='relu'))\n",
    "model.add(MaxPooling2D(pool_size = (2,2)))\n",
    "model.add(layers.Flatten())\n",
    "model.add(layers.Dense(units=64, activation='relu'))\n",
    "model.add(layers.Dense(units=10, activation='softmax'))\n",
    "model.compile(loss ='categorical_crossentropy', optimizer=optimizers.RMSprop(lr=0.001), metrics=['accuracy'])\n",
    "\n",
    "hist = model.fit(x_train, y_train, epochs=10, batch_size=64, validation_split=0.3)"
   ]
  },
  {
   "cell_type": "code",
   "execution_count": 9,
   "metadata": {
    "ExecuteTime": {
     "end_time": "2020-11-05T06:23:37.288126Z",
     "start_time": "2020-11-05T06:23:36.900724Z"
    }
   },
   "outputs": [
    {
     "data": {
      "text/plain": [
       "0.9759"
      ]
     },
     "execution_count": 9,
     "metadata": {},
     "output_type": "execute_result"
    }
   ],
   "source": [
    "o = model.predict(x_test_in)\n",
    "o_result = np.argmax(o,1)\n",
    "sum(o_result == y_test)/10000"
   ]
  },
  {
   "cell_type": "markdown",
   "metadata": {},
   "source": [
    "### optimizers 변경"
   ]
  },
  {
   "cell_type": "code",
   "execution_count": 23,
   "metadata": {
    "ExecuteTime": {
     "end_time": "2020-11-06T02:25:51.056059Z",
     "start_time": "2020-11-06T02:25:41.190283Z"
    },
    "scrolled": true
   },
   "outputs": [
    {
     "name": "stdout",
     "output_type": "stream",
     "text": [
      "Model: \"sequential_3\"\n",
      "_________________________________________________________________\n",
      "Layer (type)                 Output Shape              Param #   \n",
      "=================================================================\n",
      "conv2d_6 (Conv2D)            (None, 26, 26, 16)        160       \n",
      "_________________________________________________________________\n",
      "conv2d_7 (Conv2D)            (None, 24, 24, 32)        4640      \n",
      "_________________________________________________________________\n",
      "max_pooling2d_3 (MaxPooling2 (None, 12, 12, 32)        0         \n",
      "_________________________________________________________________\n",
      "flatten_3 (Flatten)          (None, 4608)              0         \n",
      "_________________________________________________________________\n",
      "dense_6 (Dense)              (None, 128)               589952    \n",
      "_________________________________________________________________\n",
      "dense_7 (Dense)              (None, 10)                1290      \n",
      "=================================================================\n",
      "Total params: 596,042\n",
      "Trainable params: 596,042\n",
      "Non-trainable params: 0\n",
      "_________________________________________________________________\n",
      "Epoch 1/100\n",
      "217/219 [============================>.] - ETA: 0s - loss: 0.9929 - accuracy: 0.8713\n",
      "Epoch 00001: val_loss improved from inf to 0.13347, saving model to ../2.모델저장\\test.hdf5\n",
      "219/219 [==============================] - 1s 7ms/step - loss: 0.9869 - accuracy: 0.8720 - val_loss: 0.1335 - val_accuracy: 0.9618\n",
      "Epoch 2/100\n",
      "211/219 [===========================>..] - ETA: 0s - loss: 0.0751 - accuracy: 0.9765\n",
      "Epoch 00002: val_loss improved from 0.13347 to 0.11360, saving model to ../2.모델저장\\test.hdf5\n",
      "219/219 [==============================] - 1s 5ms/step - loss: 0.0754 - accuracy: 0.9766 - val_loss: 0.1136 - val_accuracy: 0.9670\n",
      "Epoch 3/100\n",
      "218/219 [============================>.] - ETA: 0s - loss: 0.0290 - accuracy: 0.9903\n",
      "Epoch 00003: val_loss improved from 0.11360 to 0.11344, saving model to ../2.모델저장\\test.hdf5\n",
      "219/219 [==============================] - 1s 5ms/step - loss: 0.0291 - accuracy: 0.9902 - val_loss: 0.1134 - val_accuracy: 0.9703\n",
      "Epoch 4/100\n",
      "206/219 [===========================>..] - ETA: 0s - loss: 0.0122 - accuracy: 0.9965\n",
      "Epoch 00004: val_loss improved from 0.11344 to 0.09542, saving model to ../2.모델저장\\test.hdf5\n",
      "219/219 [==============================] - 1s 5ms/step - loss: 0.0125 - accuracy: 0.9962 - val_loss: 0.0954 - val_accuracy: 0.9745\n",
      "Epoch 5/100\n",
      "209/219 [===========================>..] - ETA: 0s - loss: 0.0063 - accuracy: 0.9984\n",
      "Epoch 00005: val_loss improved from 0.09542 to 0.08587, saving model to ../2.모델저장\\test.hdf5\n",
      "219/219 [==============================] - 1s 5ms/step - loss: 0.0062 - accuracy: 0.9984 - val_loss: 0.0859 - val_accuracy: 0.9780\n",
      "Epoch 6/100\n",
      "207/219 [===========================>..] - ETA: 0s - loss: 0.0073 - accuracy: 0.9981\n",
      "Epoch 00006: val_loss did not improve from 0.08587\n",
      "219/219 [==============================] - 1s 5ms/step - loss: 0.0076 - accuracy: 0.9979 - val_loss: 0.1364 - val_accuracy: 0.9697\n",
      "Epoch 7/100\n",
      "218/219 [============================>.] - ETA: 0s - loss: 0.0226 - accuracy: 0.9930\n",
      "Epoch 00007: val_loss did not improve from 0.08587\n",
      "219/219 [==============================] - 1s 4ms/step - loss: 0.0226 - accuracy: 0.9931 - val_loss: 0.1296 - val_accuracy: 0.9712\n",
      "Epoch 8/100\n",
      "216/219 [============================>.] - ETA: 0s - loss: 0.0235 - accuracy: 0.9918\n",
      "Epoch 00008: val_loss did not improve from 0.08587\n",
      "219/219 [==============================] - 1s 5ms/step - loss: 0.0238 - accuracy: 0.9916 - val_loss: 0.1321 - val_accuracy: 0.9710\n",
      "Epoch 00008: early stopping\n"
     ]
    },
    {
     "data": {
      "image/png": "[encoded data removed]",
      "text/plain": [
       "<Figure size 432x288 with 2 Axes>"
      ]
     },
     "metadata": {
      "needs_background": "light"
     },
     "output_type": "display_data"
    },
    {
     "name": "stdout",
     "output_type": "stream",
     "text": [
      "Saved model to disk : test.h5\n"
     ]
    }
   ],
   "source": [
    "model_name = 'test'\n",
    "cb_checkpoint,cb_earlystopping = model_save_erstp(MODEL_SAVE_FOLDER_PATH, model_name)\n",
    "\n",
    "model = Sequential()\n",
    "model.add(layers.Conv2D(filters=16, kernel_size = 3, input_shape=(28,28,1), activation='relu'))\n",
    "model.add(layers.Conv2D(filters=32, kernel_size = 3, activation='relu'))\n",
    "model.add(MaxPooling2D(pool_size = (2,2)))\n",
    "model.add(layers.Flatten())\n",
    "model.add(layers.Dense(units=128, activation='relu'))\n",
    "model.add(layers.Dense(units=10, activation='softmax'))\n",
    "model.compile(loss ='categorical_crossentropy', optimizer='adam', metrics=['accuracy'])\n",
    "model.summary()\n",
    "\n",
    "history = model.fit(x_train, y_train, epochs=100, batch_size=64, validation_split=0.3, callbacks=[cb_checkpoint,cb_earlystopping])\n",
    "loss_graph('loss','val_loss',0.005,0.08)\n",
    "\n",
    "\n",
    "# 모델 저장\n",
    "MODEL_SAVE_FOLDER_PATH = '../2.모델저장/'\n",
    "file_name = model_name\n",
    "json_model_saver(MODEL_SAVE_FOLDER_PATH,file_name)"
   ]
  },
  {
   "cell_type": "code",
   "execution_count": 8,
   "metadata": {
    "ExecuteTime": {
     "end_time": "2020-11-06T01:44:27.423482Z",
     "start_time": "2020-11-06T01:44:27.032701Z"
    }
   },
   "outputs": [
    {
     "data": {
      "text/plain": [
       "0.9832"
      ]
     },
     "execution_count": 8,
     "metadata": {},
     "output_type": "execute_result"
    }
   ],
   "source": [
    "o = model.predict(x_test_in)\n",
    "o_result = np.argmax(o,1)\n",
    "sum(o_result == y_test)/10000"
   ]
  }
 ],
 "metadata": {
  "kernelspec": {
   "display_name": "Python 3",
   "language": "python",
   "name": "python3"
  },
  "language_info": {
   "codemirror_mode": {
    "name": "ipython",
    "version": 3
   },
   "file_extension": ".py",
   "mimetype": "text/x-python",
   "name": "python",
   "nbconvert_exporter": "python",
   "pygments_lexer": "ipython3",
   "version": "3.7.9"
  },
  "toc": {
   "base_numbering": 1,
   "nav_menu": {},
   "number_sections": true,
   "sideBar": true,
   "skip_h1_title": false,
   "title_cell": "Table of Contents",
   "title_sidebar": "Contents",
   "toc_cell": false,
   "toc_position": {},
   "toc_section_display": true,
   "toc_window_display": false
  },
  "varInspector": {
   "cols": {
    "lenName": 16,
    "lenType": 16,
    "lenVar": 40
   },
   "kernels_config": {
    "python": {
     "delete_cmd_postfix": "",
     "delete_cmd_prefix": "del ",
     "library": "var_list.py",
     "varRefreshCmd": "print(var_dic_list())"
    },
    "r": {
     "delete_cmd_postfix": ") ",
     "delete_cmd_prefix": "rm(",
     "library": "var_list.r",
     "varRefreshCmd": "cat(var_dic_list()) "
    }
   },
   "types_to_exclude": [
    "module",
    "function",
    "builtin_function_or_method",
    "instance",
    "_Feature"
   ],
   "window_display": false
  }
 },
 "nbformat": 4,
 "nbformat_minor": 4
}
