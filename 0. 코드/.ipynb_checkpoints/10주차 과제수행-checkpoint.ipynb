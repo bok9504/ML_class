{
 "cells": [
  {
   "cell_type": "code",
   "execution_count": 59,
   "metadata": {
    "ExecuteTime": {
     "end_time": "2020-11-09T07:30:25.829804Z",
     "start_time": "2020-11-09T07:30:25.807145Z"
    }
   },
   "outputs": [],
   "source": [
    "# 얼리스탑핑 쉽게\n",
    "def model_save_erstp(MODEL_SAVE_FOLDER_PATH, model_name, patience):\n",
    "    save_file_name = model_name\n",
    "    cb_checkpoint,cb_earlystopping = checkpoint_ez(MODEL_SAVE_FOLDER_PATH, save_file_name, patience)\n",
    "    return cb_checkpoint,cb_earlystopping\n",
    "\n",
    "def checkpoint_ez(MODEL_SAVE_FOLDER_PATH,save_file_name, patience) : \n",
    "    MODEL_SAVE_FOLDER_PATH = MODEL_SAVE_FOLDER_PATH\n",
    "    data_name = save_file_name\n",
    "    model_path = MODEL_SAVE_FOLDER_PATH + data_name + '.hdf5'\n",
    "    # val_loss 값이 낮아졌을(좋아졌을) 때만 저장\n",
    "    cb_checkpoint = ModelCheckpoint(filepath=model_path, monitor='val_loss',\n",
    "                                    verbose=1, save_best_only=True\n",
    "                                   )\n",
    "    cb_earlystopping = keras.callbacks.EarlyStopping(monitor='val_loss', min_delta=0, patience = patience, verbose=1,\n",
    "                                                  mode='auto', baseline=None, restore_best_weights=False)\n",
    "    return cb_checkpoint, cb_earlystopping\n",
    "\n",
    "# 그래프 쉽게\n",
    "def loss_graph(label1,label2,bottom,top):\n",
    "    fig, loss_ax = plt.subplots()\n",
    "    acc_ax = loss_ax.twinx()\n",
    "    loss_ax.plot(history.history['loss'], 'y', label=label1)\n",
    "    loss_ax.plot(history.history['val_loss'], 'r', label=label2)\n",
    "    acc_ax.plot(history.history['accuracy'], 'b', label='train acc')\n",
    "    acc_ax.plot(history.history['val_accuracy'], 'g', label='val acc')\n",
    "    loss_ax.set_xlabel('epoch')\n",
    "    loss_ax.set_ylabel('loss')\n",
    "    # acc_ax.set_ylabel('accuray')\n",
    "    loss_ax.legend(loc='upper left')\n",
    "    acc_ax.legend(loc='lower left')\n",
    "    loss_ax.set_ylim(bottom,top)\n",
    "    return plt.show()\n",
    "\n",
    "# 모델 저장 def\n",
    "def json_model_saver(MODEL_SAVE_FOLDER_PATH,file_name):\n",
    "    # model save by json\n",
    "    # load model \n",
    "    model = keras.models.load_model(MODEL_SAVE_FOLDER_PATH +file_name+ '.hdf5')\n",
    "    # Save model with json format\n",
    "    model_json = model.to_json()\n",
    "    with open(MODEL_SAVE_FOLDER_PATH+file_name+'.json', \"w\") as json_file:\n",
    "        json_file.write(model_json)\n",
    "    # Save weight with h5 format\n",
    "    model.save_weights( MODEL_SAVE_FOLDER_PATH +file_name +'.h5')\n",
    "    return print(\"Saved model to disk : \"+ file_name +'.h5')\n"
   ]
  },
  {
   "cell_type": "code",
   "execution_count": 7,
   "metadata": {
    "ExecuteTime": {
     "end_time": "2020-11-09T06:55:59.031647Z",
     "start_time": "2020-11-09T06:55:58.553903Z"
    }
   },
   "outputs": [],
   "source": [
    "import pandas as pd\n",
    "import numpy as np\n",
    "import matplotlib.pyplot as plt"
   ]
  },
  {
   "cell_type": "code",
   "execution_count": 2,
   "metadata": {
    "ExecuteTime": {
     "end_time": "2020-11-09T06:54:14.639889Z",
     "start_time": "2020-11-09T06:54:14.625020Z"
    }
   },
   "outputs": [],
   "source": [
    "path = '../9.데이터/ECG/'"
   ]
  },
  {
   "cell_type": "code",
   "execution_count": 17,
   "metadata": {
    "ExecuteTime": {
     "end_time": "2020-11-09T06:57:56.009355Z",
     "start_time": "2020-11-09T06:57:55.464724Z"
    }
   },
   "outputs": [],
   "source": [
    "data_normal = pd.read_csv(path + 'ptbdb_normal.csv')\n",
    "data_abnormal = pd.read_csv(path + 'ptbdb_abnormal.csv')"
   ]
  },
  {
   "cell_type": "code",
   "execution_count": 18,
   "metadata": {
    "ExecuteTime": {
     "end_time": "2020-11-09T06:57:56.083897Z",
     "start_time": "2020-11-09T06:57:56.069996Z"
    }
   },
   "outputs": [],
   "source": [
    "data_normal = np.array(data_normal)\n",
    "data_abnormal = np.array(data_abnormal)"
   ]
  },
  {
   "cell_type": "code",
   "execution_count": 33,
   "metadata": {
    "ExecuteTime": {
     "end_time": "2020-11-09T07:03:36.728801Z",
     "start_time": "2020-11-09T07:03:36.710946Z"
    }
   },
   "outputs": [],
   "source": [
    "data_normal = data_normal[:,:data_normal.shape[1]-10]\n",
    "data_abnormal = data_abnormal[:,:data_abnormal.shape[1]-10]"
   ]
  },
  {
   "cell_type": "code",
   "execution_count": 36,
   "metadata": {
    "ExecuteTime": {
     "end_time": "2020-11-09T07:03:50.179203Z",
     "start_time": "2020-11-09T07:03:50.087130Z"
    }
   },
   "outputs": [
    {
     "data": {
      "text/plain": [
       "[<matplotlib.lines.Line2D at 0x2b33d41d448>]"
      ]
     },
     "execution_count": 36,
     "metadata": {},
     "output_type": "execute_result"
    },
    {
     "data": {
      "image/png": "[encoded data removed]",
      "text/plain": [
       "<Figure size 432x288 with 1 Axes>"
      ]
     },
     "metadata": {
      "needs_background": "light"
     },
     "output_type": "display_data"
    }
   ],
   "source": [
    "plt.plot(data_normal[40,:])"
   ]
  },
  {
   "cell_type": "code",
   "execution_count": 38,
   "metadata": {
    "ExecuteTime": {
     "end_time": "2020-11-09T07:11:35.339907Z",
     "start_time": "2020-11-09T07:11:35.318837Z"
    }
   },
   "outputs": [],
   "source": [
    "nTrain = 3000\n",
    "nTest = 1000\n",
    "x_train = np.concatenate((data_normal[:nTrain,:], data_abnormal[:nTrain,:]),0)\n",
    "y_train = np.concatenate((np.zeros(nTrain), np.ones(nTrain)),0)\n",
    "x_test = np.concatenate((data_normal[nTrain:nTrain+nTest,:], data_abnormal[nTrain:nTrain+nTest,:]),0)\n",
    "y_test = np.concatenate((np.zeros(nTest), np.ones(nTest)),0)"
   ]
  },
  {
   "cell_type": "code",
   "execution_count": 47,
   "metadata": {
    "ExecuteTime": {
     "end_time": "2020-11-09T07:12:43.286927Z",
     "start_time": "2020-11-09T07:12:43.276927Z"
    }
   },
   "outputs": [
    {
     "data": {
      "text/plain": [
       "(6000,)"
      ]
     },
     "execution_count": 47,
     "metadata": {},
     "output_type": "execute_result"
    }
   ],
   "source": [
    "y_train.shape"
   ]
  },
  {
   "cell_type": "code",
   "execution_count": 48,
   "metadata": {
    "ExecuteTime": {
     "end_time": "2020-11-09T07:14:03.471084Z",
     "start_time": "2020-11-09T07:13:59.652937Z"
    }
   },
   "outputs": [],
   "source": [
    "from tensorflow.keras.utils import to_categorical\n",
    "y_test = to_categorical(y_test)\n",
    "y_train = to_categorical(y_train)"
   ]
  },
  {
   "cell_type": "code",
   "execution_count": 51,
   "metadata": {
    "ExecuteTime": {
     "end_time": "2020-11-09T07:15:20.652827Z",
     "start_time": "2020-11-09T07:15:20.644953Z"
    }
   },
   "outputs": [],
   "source": [
    "x_train = np.expand_dims(x_train,-1)\n",
    "x_test = np.expand_dims(x_test,-1)"
   ]
  },
  {
   "cell_type": "code",
   "execution_count": 60,
   "metadata": {
    "ExecuteTime": {
     "end_time": "2020-11-09T07:30:54.056370Z",
     "start_time": "2020-11-09T07:30:54.040636Z"
    }
   },
   "outputs": [],
   "source": [
    "import tensorflow.keras as keras\n",
    "from keras.models import Sequential\n",
    "from keras import layers\n",
    "from keras import optimizers\n",
    "from keras.callbacks import ModelCheckpoint"
   ]
  },
  {
   "cell_type": "code",
   "execution_count": 62,
   "metadata": {
    "ExecuteTime": {
     "end_time": "2020-11-09T07:31:49.591220Z",
     "start_time": "2020-11-09T07:31:29.953385Z"
    },
    "scrolled": true
   },
   "outputs": [
    {
     "name": "stdout",
     "output_type": "stream",
     "text": [
      "Model: \"sequential_4\"\n",
      "_________________________________________________________________\n",
      "Layer (type)                 Output Shape              Param #   \n",
      "=================================================================\n",
      "conv1d_12 (Conv1D)           (None, 176, 16)           64        \n",
      "_________________________________________________________________\n",
      "conv1d_13 (Conv1D)           (None, 174, 16)           784       \n",
      "_________________________________________________________________\n",
      "max_pooling1d_6 (MaxPooling1 (None, 86, 16)            0         \n",
      "_________________________________________________________________\n",
      "conv1d_14 (Conv1D)           (None, 84, 32)            1568      \n",
      "_________________________________________________________________\n",
      "conv1d_15 (Conv1D)           (None, 82, 32)            3104      \n",
      "_________________________________________________________________\n",
      "max_pooling1d_7 (MaxPooling1 (None, 40, 32)            0         \n",
      "_________________________________________________________________\n",
      "bidirectional_1 (Bidirection (None, 32)                6272      \n",
      "_________________________________________________________________\n",
      "dense_2 (Dense)              (None, 2)                 66        \n",
      "=================================================================\n",
      "Total params: 11,858\n",
      "Trainable params: 11,858\n",
      "Non-trainable params: 0\n",
      "_________________________________________________________________\n",
      "Epoch 1/50\n",
      "38/38 [==============================] - 1s 26ms/step - loss: 0.5546 - accuracy: 0.7206 - val_loss: 0.7054 - val_accuracy: 0.6383\n",
      "Epoch 2/50\n",
      "38/38 [==============================] - 0s 8ms/step - loss: 0.4253 - accuracy: 0.8248 - val_loss: 0.5937 - val_accuracy: 0.7200\n",
      "Epoch 3/50\n",
      "38/38 [==============================] - 0s 8ms/step - loss: 0.3799 - accuracy: 0.8462 - val_loss: 0.5566 - val_accuracy: 0.7725\n",
      "Epoch 4/50\n",
      "38/38 [==============================] - 0s 8ms/step - loss: 0.3310 - accuracy: 0.8675 - val_loss: 0.5695 - val_accuracy: 0.7325\n",
      "Epoch 5/50\n",
      "38/38 [==============================] - 0s 8ms/step - loss: 0.3005 - accuracy: 0.8821 - val_loss: 0.2666 - val_accuracy: 0.8667\n",
      "Epoch 6/50\n",
      "38/38 [==============================] - 0s 8ms/step - loss: 0.2899 - accuracy: 0.8890 - val_loss: 0.4155 - val_accuracy: 0.8175\n",
      "Epoch 7/50\n",
      "38/38 [==============================] - 0s 8ms/step - loss: 0.2486 - accuracy: 0.9083 - val_loss: 0.3961 - val_accuracy: 0.8292\n",
      "Epoch 8/50\n",
      "38/38 [==============================] - 0s 8ms/step - loss: 0.2624 - accuracy: 0.8994 - val_loss: 0.3405 - val_accuracy: 0.8592\n",
      "Epoch 9/50\n",
      "38/38 [==============================] - 0s 8ms/step - loss: 0.2155 - accuracy: 0.9200 - val_loss: 0.5597 - val_accuracy: 0.7875\n",
      "Epoch 10/50\n",
      "38/38 [==============================] - 0s 8ms/step - loss: 0.2010 - accuracy: 0.9269 - val_loss: 0.2984 - val_accuracy: 0.8725\n",
      "Epoch 11/50\n",
      "38/38 [==============================] - 0s 8ms/step - loss: 0.2032 - accuracy: 0.9217 - val_loss: 0.3000 - val_accuracy: 0.8858\n",
      "Epoch 12/50\n",
      "38/38 [==============================] - 0s 8ms/step - loss: 0.1716 - accuracy: 0.9379 - val_loss: 0.2672 - val_accuracy: 0.8825\n",
      "Epoch 13/50\n",
      "38/38 [==============================] - 0s 8ms/step - loss: 0.1938 - accuracy: 0.9300 - val_loss: 0.2927 - val_accuracy: 0.8842\n",
      "Epoch 14/50\n",
      "38/38 [==============================] - 0s 8ms/step - loss: 0.1650 - accuracy: 0.9429 - val_loss: 0.2462 - val_accuracy: 0.8975\n",
      "Epoch 15/50\n",
      "38/38 [==============================] - 0s 8ms/step - loss: 0.1570 - accuracy: 0.9435 - val_loss: 0.2649 - val_accuracy: 0.8908\n",
      "Epoch 16/50\n",
      "38/38 [==============================] - 0s 8ms/step - loss: 0.1522 - accuracy: 0.9460 - val_loss: 0.2887 - val_accuracy: 0.8900\n",
      "Epoch 17/50\n",
      "38/38 [==============================] - 0s 8ms/step - loss: 0.1537 - accuracy: 0.9431 - val_loss: 0.3054 - val_accuracy: 0.8767\n",
      "Epoch 18/50\n",
      "38/38 [==============================] - 0s 8ms/step - loss: 0.1887 - accuracy: 0.9283 - val_loss: 0.3167 - val_accuracy: 0.8800\n",
      "Epoch 19/50\n",
      "38/38 [==============================] - 0s 8ms/step - loss: 0.1457 - accuracy: 0.9498 - val_loss: 0.1157 - val_accuracy: 0.9483\n",
      "Epoch 20/50\n",
      "38/38 [==============================] - 0s 8ms/step - loss: 0.1319 - accuracy: 0.9575 - val_loss: 0.1276 - val_accuracy: 0.9417\n",
      "Epoch 21/50\n",
      "38/38 [==============================] - 0s 8ms/step - loss: 0.1228 - accuracy: 0.9538 - val_loss: 0.1689 - val_accuracy: 0.9367\n",
      "Epoch 22/50\n",
      "38/38 [==============================] - 0s 8ms/step - loss: 0.1207 - accuracy: 0.9577 - val_loss: 0.1496 - val_accuracy: 0.9475\n",
      "Epoch 23/50\n",
      "38/38 [==============================] - 0s 8ms/step - loss: 0.1238 - accuracy: 0.9567 - val_loss: 0.0928 - val_accuracy: 0.9633\n",
      "Epoch 24/50\n",
      "38/38 [==============================] - 0s 8ms/step - loss: 0.1188 - accuracy: 0.9590 - val_loss: 0.1770 - val_accuracy: 0.9292\n",
      "Epoch 25/50\n",
      "38/38 [==============================] - 0s 8ms/step - loss: 0.0880 - accuracy: 0.9698 - val_loss: 0.2168 - val_accuracy: 0.9150\n",
      "Epoch 26/50\n",
      "38/38 [==============================] - 0s 8ms/step - loss: 0.0907 - accuracy: 0.9683 - val_loss: 0.1942 - val_accuracy: 0.9275\n",
      "Epoch 27/50\n",
      "38/38 [==============================] - 0s 8ms/step - loss: 0.0964 - accuracy: 0.9654 - val_loss: 0.1596 - val_accuracy: 0.9408\n",
      "Epoch 28/50\n",
      "38/38 [==============================] - 0s 8ms/step - loss: 0.0911 - accuracy: 0.9669 - val_loss: 0.1177 - val_accuracy: 0.9583\n",
      "Epoch 29/50\n",
      "38/38 [==============================] - 0s 8ms/step - loss: 0.0823 - accuracy: 0.9706 - val_loss: 0.1549 - val_accuracy: 0.9392\n",
      "Epoch 30/50\n",
      "38/38 [==============================] - 0s 8ms/step - loss: 0.0687 - accuracy: 0.9783 - val_loss: 0.0727 - val_accuracy: 0.9733\n",
      "Epoch 31/50\n",
      "38/38 [==============================] - 0s 8ms/step - loss: 0.0706 - accuracy: 0.9771 - val_loss: 0.1216 - val_accuracy: 0.9442\n",
      "Epoch 32/50\n",
      "38/38 [==============================] - 0s 8ms/step - loss: 0.0631 - accuracy: 0.9802 - val_loss: 0.1882 - val_accuracy: 0.9350\n",
      "Epoch 33/50\n",
      "38/38 [==============================] - 0s 8ms/step - loss: 0.0666 - accuracy: 0.9767 - val_loss: 0.1891 - val_accuracy: 0.9308\n",
      "Epoch 34/50\n",
      "38/38 [==============================] - 0s 8ms/step - loss: 0.0663 - accuracy: 0.9769 - val_loss: 0.1674 - val_accuracy: 0.9350\n",
      "Epoch 35/50\n",
      "38/38 [==============================] - 0s 8ms/step - loss: 0.0620 - accuracy: 0.9800 - val_loss: 0.1896 - val_accuracy: 0.9325\n",
      "Epoch 36/50\n",
      "38/38 [==============================] - 0s 8ms/step - loss: 0.0701 - accuracy: 0.9756 - val_loss: 0.2227 - val_accuracy: 0.9158\n",
      "Epoch 37/50\n",
      "38/38 [==============================] - 0s 8ms/step - loss: 0.1040 - accuracy: 0.9608 - val_loss: 0.2163 - val_accuracy: 0.9258\n",
      "Epoch 38/50\n",
      "38/38 [==============================] - 0s 8ms/step - loss: 0.0860 - accuracy: 0.9696 - val_loss: 0.1712 - val_accuracy: 0.9342\n",
      "Epoch 39/50\n",
      "38/38 [==============================] - 0s 8ms/step - loss: 0.0591 - accuracy: 0.9815 - val_loss: 0.1258 - val_accuracy: 0.9583\n",
      "Epoch 40/50\n",
      "38/38 [==============================] - 0s 8ms/step - loss: 0.0522 - accuracy: 0.9831 - val_loss: 0.1622 - val_accuracy: 0.9467\n",
      "Epoch 41/50\n",
      "38/38 [==============================] - 0s 8ms/step - loss: 0.0766 - accuracy: 0.9760 - val_loss: 0.2413 - val_accuracy: 0.9158\n",
      "Epoch 42/50\n",
      "38/38 [==============================] - 0s 8ms/step - loss: 0.0672 - accuracy: 0.9758 - val_loss: 0.1344 - val_accuracy: 0.9483\n",
      "Epoch 43/50\n",
      "38/38 [==============================] - 0s 8ms/step - loss: 0.0378 - accuracy: 0.9865 - val_loss: 0.1020 - val_accuracy: 0.9658\n",
      "Epoch 44/50\n",
      "38/38 [==============================] - 0s 8ms/step - loss: 0.0401 - accuracy: 0.9858 - val_loss: 0.0915 - val_accuracy: 0.9650\n",
      "Epoch 45/50\n",
      "38/38 [==============================] - 0s 9ms/step - loss: 0.0488 - accuracy: 0.9846 - val_loss: 0.1305 - val_accuracy: 0.9650\n",
      "Epoch 46/50\n",
      "38/38 [==============================] - 0s 8ms/step - loss: 0.0474 - accuracy: 0.9856 - val_loss: 0.1148 - val_accuracy: 0.9592\n",
      "Epoch 47/50\n",
      "38/38 [==============================] - 0s 8ms/step - loss: 0.0569 - accuracy: 0.9810 - val_loss: 0.3179 - val_accuracy: 0.8975\n",
      "Epoch 48/50\n",
      "38/38 [==============================] - 0s 8ms/step - loss: 0.0753 - accuracy: 0.9740 - val_loss: 0.0730 - val_accuracy: 0.9767\n",
      "Epoch 49/50\n"
     ]
    },
    {
     "name": "stdout",
     "output_type": "stream",
     "text": [
      "38/38 [==============================] - 0s 8ms/step - loss: 0.0703 - accuracy: 0.9771 - val_loss: 0.1534 - val_accuracy: 0.9458\n",
      "Epoch 50/50\n",
      "38/38 [==============================] - 0s 7ms/step - loss: 0.0358 - accuracy: 0.9875 - val_loss: 0.2144 - val_accuracy: 0.9267\n"
     ]
    },
    {
     "data": {
      "image/png": "[encoded data removed]",
      "text/plain": [
       "<Figure size 432x288 with 2 Axes>"
      ]
     },
     "metadata": {
      "needs_background": "light"
     },
     "output_type": "display_data"
    }
   ],
   "source": [
    "#model_name = 'LSTM'\n",
    "#cb_checkpoint,cb_earlystopping = model_save_erstp(MODEL_SAVE_FOLDER_PATH, model_name)\n",
    "\n",
    "model = Sequential()\n",
    "model.add(layers.Conv1D(filters=16, kernel_size=3, input_shape=(x_train.shape[1],1), activation = 'relu'))\n",
    "model.add(layers.Conv1D(filters=16, kernel_size=3, activation = 'relu'))\n",
    "model.add(layers.MaxPooling1D(pool_size = 3, strides=2))\n",
    "model.add(layers.Conv1D(filters=32, kernel_size=3, input_shape=(x_train.shape[1],1), activation = 'relu'))\n",
    "model.add(layers.Conv1D(filters=32, kernel_size=3, activation = 'relu'))\n",
    "model.add(layers.MaxPooling1D(pool_size = 3, strides=2))\n",
    "model.add(layers.Bidirectional(layers.LSTM(16)))\n",
    "model.add(layers.Dense(units=2, activation='softmax'))\n",
    "model.compile(loss='categorical_crossentropy', optimizer=optimizers.Adam(lr=0.01), metrics=['accuracy'])\n",
    "model.summary()\n",
    "\n",
    "history = model.fit(x_train, y_train, epochs = 50, batch_size=128, validation_split=0.2)\n",
    "loss_graph('loss','val_loss',0.005,0.08)"
   ]
  },
  {
   "cell_type": "code",
   "execution_count": 56,
   "metadata": {
    "ExecuteTime": {
     "end_time": "2020-11-09T07:24:21.772759Z",
     "start_time": "2020-11-09T07:24:06.211547Z"
    }
   },
   "outputs": [
    {
     "name": "stdout",
     "output_type": "stream",
     "text": [
      "Epoch 1/50\n",
      "38/38 [==============================] - 1s 28ms/step - loss: 0.6336 - accuracy: 0.6398 - val_loss: 0.7859 - val_accuracy: 0.5667\n",
      "Epoch 2/50\n",
      "38/38 [==============================] - 0s 6ms/step - loss: 0.5777 - accuracy: 0.7129 - val_loss: 0.7396 - val_accuracy: 0.5633\n",
      "Epoch 3/50\n",
      "38/38 [==============================] - 0s 6ms/step - loss: 0.5651 - accuracy: 0.7173 - val_loss: 0.8005 - val_accuracy: 0.4625\n",
      "Epoch 4/50\n",
      "38/38 [==============================] - 0s 6ms/step - loss: 0.5567 - accuracy: 0.7250 - val_loss: 0.7391 - val_accuracy: 0.5583\n",
      "Epoch 5/50\n",
      "38/38 [==============================] - 0s 6ms/step - loss: 0.5557 - accuracy: 0.7219 - val_loss: 0.8267 - val_accuracy: 0.4883\n",
      "Epoch 6/50\n",
      "38/38 [==============================] - 0s 6ms/step - loss: 0.5334 - accuracy: 0.7406 - val_loss: 0.7616 - val_accuracy: 0.4333\n",
      "Epoch 7/50\n",
      "38/38 [==============================] - 0s 6ms/step - loss: 0.5305 - accuracy: 0.7446 - val_loss: 0.7488 - val_accuracy: 0.5492\n",
      "Epoch 8/50\n",
      "38/38 [==============================] - 0s 6ms/step - loss: 0.5214 - accuracy: 0.7425 - val_loss: 0.6740 - val_accuracy: 0.6208\n",
      "Epoch 9/50\n",
      "38/38 [==============================] - 0s 6ms/step - loss: 0.5033 - accuracy: 0.7613 - val_loss: 0.8285 - val_accuracy: 0.4608\n",
      "Epoch 10/50\n",
      "38/38 [==============================] - 0s 6ms/step - loss: 0.4953 - accuracy: 0.7806 - val_loss: 0.7604 - val_accuracy: 0.6875\n",
      "Epoch 11/50\n",
      "38/38 [==============================] - 0s 6ms/step - loss: 0.4934 - accuracy: 0.7698 - val_loss: 0.7549 - val_accuracy: 0.4817\n",
      "Epoch 12/50\n",
      "38/38 [==============================] - 0s 6ms/step - loss: 0.4894 - accuracy: 0.7742 - val_loss: 0.8332 - val_accuracy: 0.5350\n",
      "Epoch 13/50\n",
      "38/38 [==============================] - 0s 6ms/step - loss: 0.5147 - accuracy: 0.7519 - val_loss: 0.8636 - val_accuracy: 0.4508\n",
      "Epoch 14/50\n",
      "38/38 [==============================] - 0s 6ms/step - loss: 0.4537 - accuracy: 0.7858 - val_loss: 0.6701 - val_accuracy: 0.6233\n",
      "Epoch 15/50\n",
      "38/38 [==============================] - 0s 6ms/step - loss: 0.4403 - accuracy: 0.7983 - val_loss: 0.6597 - val_accuracy: 0.6225\n",
      "Epoch 16/50\n",
      "38/38 [==============================] - 0s 6ms/step - loss: 0.4304 - accuracy: 0.8012 - val_loss: 0.7076 - val_accuracy: 0.5783\n",
      "Epoch 17/50\n",
      "38/38 [==============================] - 0s 6ms/step - loss: 0.4251 - accuracy: 0.8100 - val_loss: 0.6612 - val_accuracy: 0.6325\n",
      "Epoch 18/50\n",
      "38/38 [==============================] - 0s 6ms/step - loss: 0.4120 - accuracy: 0.8171 - val_loss: 0.6142 - val_accuracy: 0.6825\n",
      "Epoch 19/50\n",
      "38/38 [==============================] - 0s 6ms/step - loss: 0.4019 - accuracy: 0.8231 - val_loss: 0.5189 - val_accuracy: 0.7183\n",
      "Epoch 20/50\n",
      "38/38 [==============================] - 0s 6ms/step - loss: 0.3988 - accuracy: 0.8283 - val_loss: 0.7470 - val_accuracy: 0.5942\n",
      "Epoch 21/50\n",
      "38/38 [==============================] - 0s 6ms/step - loss: 0.4046 - accuracy: 0.8175 - val_loss: 0.4443 - val_accuracy: 0.7183\n",
      "Epoch 22/50\n",
      "38/38 [==============================] - 0s 6ms/step - loss: 0.3661 - accuracy: 0.8475 - val_loss: 0.7479 - val_accuracy: 0.6642\n",
      "Epoch 23/50\n",
      "38/38 [==============================] - 0s 6ms/step - loss: 0.3679 - accuracy: 0.8438 - val_loss: 0.5382 - val_accuracy: 0.7617\n",
      "Epoch 24/50\n",
      "38/38 [==============================] - 0s 6ms/step - loss: 0.3326 - accuracy: 0.8606 - val_loss: 0.7840 - val_accuracy: 0.6683\n",
      "Epoch 25/50\n",
      "38/38 [==============================] - 0s 6ms/step - loss: 0.3448 - accuracy: 0.8537 - val_loss: 0.4205 - val_accuracy: 0.7917\n",
      "Epoch 26/50\n",
      "38/38 [==============================] - 0s 6ms/step - loss: 0.3247 - accuracy: 0.8654 - val_loss: 0.7419 - val_accuracy: 0.6225\n",
      "Epoch 27/50\n",
      "38/38 [==============================] - 0s 6ms/step - loss: 0.3456 - accuracy: 0.8554 - val_loss: 0.4690 - val_accuracy: 0.7783\n",
      "Epoch 28/50\n",
      "38/38 [==============================] - 0s 6ms/step - loss: 0.3052 - accuracy: 0.8769 - val_loss: 0.4168 - val_accuracy: 0.8108\n",
      "Epoch 29/50\n",
      "38/38 [==============================] - 0s 6ms/step - loss: 0.2913 - accuracy: 0.8844 - val_loss: 0.6904 - val_accuracy: 0.7142\n",
      "Epoch 30/50\n",
      "38/38 [==============================] - 0s 6ms/step - loss: 0.3397 - accuracy: 0.8556 - val_loss: 0.5246 - val_accuracy: 0.7592\n",
      "Epoch 31/50\n",
      "38/38 [==============================] - 0s 6ms/step - loss: 0.3337 - accuracy: 0.8594 - val_loss: 0.5478 - val_accuracy: 0.7475\n",
      "Epoch 32/50\n",
      "38/38 [==============================] - 0s 6ms/step - loss: 0.3023 - accuracy: 0.8760 - val_loss: 0.7159 - val_accuracy: 0.6525\n",
      "Epoch 33/50\n",
      "38/38 [==============================] - 0s 6ms/step - loss: 0.2999 - accuracy: 0.8779 - val_loss: 0.4173 - val_accuracy: 0.8250\n",
      "Epoch 34/50\n",
      "38/38 [==============================] - 0s 6ms/step - loss: 0.2881 - accuracy: 0.8885 - val_loss: 0.4231 - val_accuracy: 0.8083\n",
      "Epoch 35/50\n",
      "38/38 [==============================] - 0s 6ms/step - loss: 0.2855 - accuracy: 0.8858 - val_loss: 0.3177 - val_accuracy: 0.8642\n",
      "Epoch 36/50\n",
      "38/38 [==============================] - 0s 6ms/step - loss: 0.2712 - accuracy: 0.8946 - val_loss: 0.4794 - val_accuracy: 0.7375\n",
      "Epoch 37/50\n",
      "38/38 [==============================] - 0s 6ms/step - loss: 0.2923 - accuracy: 0.8829 - val_loss: 0.4879 - val_accuracy: 0.7783\n",
      "Epoch 38/50\n",
      "38/38 [==============================] - 0s 6ms/step - loss: 0.3667 - accuracy: 0.8535 - val_loss: 0.5568 - val_accuracy: 0.7633\n",
      "Epoch 39/50\n",
      "38/38 [==============================] - 0s 6ms/step - loss: 0.3978 - accuracy: 0.8246 - val_loss: 0.4839 - val_accuracy: 0.7267\n",
      "Epoch 40/50\n",
      "38/38 [==============================] - 0s 6ms/step - loss: 0.3196 - accuracy: 0.8742 - val_loss: 0.4465 - val_accuracy: 0.8250\n",
      "Epoch 41/50\n",
      "38/38 [==============================] - 0s 6ms/step - loss: 0.2813 - accuracy: 0.8952 - val_loss: 0.4838 - val_accuracy: 0.8075\n",
      "Epoch 42/50\n",
      "38/38 [==============================] - 0s 6ms/step - loss: 0.2518 - accuracy: 0.9031 - val_loss: 0.3510 - val_accuracy: 0.8758\n",
      "Epoch 43/50\n",
      "38/38 [==============================] - 0s 6ms/step - loss: 0.2431 - accuracy: 0.9042 - val_loss: 0.3879 - val_accuracy: 0.8383\n",
      "Epoch 44/50\n",
      "38/38 [==============================] - 0s 6ms/step - loss: 0.2308 - accuracy: 0.9127 - val_loss: 0.1812 - val_accuracy: 0.9325\n",
      "Epoch 45/50\n",
      "38/38 [==============================] - 0s 6ms/step - loss: 0.2122 - accuracy: 0.9183 - val_loss: 0.3687 - val_accuracy: 0.8342\n",
      "Epoch 46/50\n",
      "38/38 [==============================] - 0s 6ms/step - loss: 0.1952 - accuracy: 0.9296 - val_loss: 0.2577 - val_accuracy: 0.9008\n",
      "Epoch 47/50\n",
      "38/38 [==============================] - 0s 6ms/step - loss: 0.1936 - accuracy: 0.9281 - val_loss: 0.3218 - val_accuracy: 0.8783\n",
      "Epoch 48/50\n",
      "38/38 [==============================] - 0s 6ms/step - loss: 0.2031 - accuracy: 0.9260 - val_loss: 0.2452 - val_accuracy: 0.8967\n",
      "Epoch 49/50\n",
      "38/38 [==============================] - 0s 6ms/step - loss: 0.1998 - accuracy: 0.9254 - val_loss: 0.2705 - val_accuracy: 0.8992\n",
      "Epoch 50/50\n",
      "38/38 [==============================] - 0s 6ms/step - loss: 0.1826 - accuracy: 0.9327 - val_loss: 0.3141 - val_accuracy: 0.8800\n"
     ]
    },
    {
     "data": {
      "text/plain": [
       "<tensorflow.python.keras.callbacks.History at 0x2b3625cc248>"
      ]
     },
     "execution_count": 56,
     "metadata": {},
     "output_type": "execute_result"
    }
   ],
   "source": []
  },
  {
   "cell_type": "code",
   "execution_count": null,
   "metadata": {},
   "outputs": [],
   "source": []
  }
 ],
 "metadata": {
  "kernelspec": {
   "display_name": "Python 3",
   "language": "python",
   "name": "python3"
  },
  "language_info": {
   "codemirror_mode": {
    "name": "ipython",
    "version": 3
   },
   "file_extension": ".py",
   "mimetype": "text/x-python",
   "name": "python",
   "nbconvert_exporter": "python",
   "pygments_lexer": "ipython3",
   "version": "3.7.9"
  },
  "toc": {
   "base_numbering": 1,
   "nav_menu": {},
   "number_sections": true,
   "sideBar": true,
   "skip_h1_title": false,
   "title_cell": "Table of Contents",
   "title_sidebar": "Contents",
   "toc_cell": false,
   "toc_position": {},
   "toc_section_display": true,
   "toc_window_display": false
  },
  "varInspector": {
   "cols": {
    "lenName": 16,
    "lenType": 16,
    "lenVar": 40
   },
   "kernels_config": {
    "python": {
     "delete_cmd_postfix": "",
     "delete_cmd_prefix": "del ",
     "library": "var_list.py",
     "varRefreshCmd": "print(var_dic_list())"
    },
    "r": {
     "delete_cmd_postfix": ") ",
     "delete_cmd_prefix": "rm(",
     "library": "var_list.r",
     "varRefreshCmd": "cat(var_dic_list()) "
    }
   },
   "types_to_exclude": [
    "module",
    "function",
    "builtin_function_or_method",
    "instance",
    "_Feature"
   ],
   "window_display": false
  }
 },
 "nbformat": 4,
 "nbformat_minor": 4
}
