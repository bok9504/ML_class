{
 "cells": [
  {
   "cell_type": "code",
   "execution_count": 13,
   "metadata": {
    "ExecuteTime": {
     "end_time": "2020-11-11T03:49:01.858308Z",
     "start_time": "2020-11-11T03:49:01.849234Z"
    }
   },
   "outputs": [],
   "source": [
    "import pandas as pd\n",
    "import numpy as np\n",
    "import matplotlib.pyplot as plt\n",
    "\n",
    "import tensorflow.keras as keras\n",
    "from keras.models import Sequential\n",
    "from keras import layers\n",
    "from keras import optimizers\n",
    "from keras.callbacks import ModelCheckpoint\n",
    "from tensorflow.keras.utils import to_categorical"
   ]
  },
  {
   "cell_type": "code",
   "execution_count": 14,
   "metadata": {
    "ExecuteTime": {
     "end_time": "2020-11-11T03:49:02.266522Z",
     "start_time": "2020-11-11T03:49:02.256500Z"
    }
   },
   "outputs": [],
   "source": [
    "path = '../9.데이터/ECG/'"
   ]
  },
  {
   "cell_type": "code",
   "execution_count": 30,
   "metadata": {
    "ExecuteTime": {
     "end_time": "2020-11-11T03:52:43.317318Z",
     "start_time": "2020-11-11T03:52:42.760456Z"
    }
   },
   "outputs": [],
   "source": [
    "# 데이터 불러오기\n",
    "data_normal = pd.read_csv(path + 'ptbdb_normal.csv')\n",
    "data_abnormal = pd.read_csv(path + 'ptbdb_abnormal.csv')\n",
    "\n",
    "# 데이터 배열화\n",
    "data_normal = np.array(data_normal)\n",
    "data_abnormal = np.array(data_abnormal)"
   ]
  },
  {
   "cell_type": "code",
   "execution_count": 35,
   "metadata": {
    "ExecuteTime": {
     "end_time": "2020-11-11T03:57:01.226715Z",
     "start_time": "2020-11-11T03:57:01.142788Z"
    }
   },
   "outputs": [
    {
     "name": "stdout",
     "output_type": "stream",
     "text": [
      "(4045, 188)\n",
      "(10505, 188)\n"
     ]
    },
    {
     "data": {
      "text/plain": [
       "[<matplotlib.lines.Line2D at 0x1a2b8f9bcc8>]"
      ]
     },
     "execution_count": 35,
     "metadata": {},
     "output_type": "execute_result"
    },
    {
     "data": {
      "image/png": "[encoded data removed]",
      "text/plain": [
       "<Figure size 432x288 with 1 Axes>"
      ]
     },
     "metadata": {
      "needs_background": "light"
     },
     "output_type": "display_data"
    }
   ],
   "source": [
    "# 데이터 확인\n",
    "print(data_normal.shape)\n",
    "print(data_abnormal.shape)\n",
    "\n",
    "plt.plot(data_abnormal[38,:])"
   ]
  },
  {
   "cell_type": "code",
   "execution_count": 33,
   "metadata": {
    "ExecuteTime": {
     "end_time": "2020-11-09T07:03:36.728801Z",
     "start_time": "2020-11-09T07:03:36.710946Z"
    }
   },
   "outputs": [],
   "source": [
    "# 데이터의 마지막에 존재하는 noise 값 제거를 위한 끝단 데이터 10개 제거\n",
    "data_normal = data_normal[:,:data_normal.shape[1]-10]\n",
    "data_abnormal = data_abnormal[:,:data_abnormal.shape[1]-10]"
   ]
  },
  {
   "cell_type": "code",
   "execution_count": 38,
   "metadata": {
    "ExecuteTime": {
     "end_time": "2020-11-09T07:11:35.339907Z",
     "start_time": "2020-11-09T07:11:35.318837Z"
    }
   },
   "outputs": [],
   "source": [
    "# 정상과 비정상의 데이터 개수를 맞추기 및 Train, Test 데이터 생성\n",
    "nTrain = 3000\n",
    "nTest = 1000\n",
    "x_train = np.concatenate((data_normal[:nTrain,:], data_abnormal[:nTrain,:]),0)\n",
    "y_train = np.concatenate((np.zeros(nTrain), np.ones(nTrain)),0)\n",
    "x_test = np.concatenate((data_normal[nTrain:nTrain+nTest,:], data_abnormal[nTrain:nTrain+nTest,:]),0)\n",
    "y_test = np.concatenate((np.zeros(nTest), np.ones(nTest)),0)"
   ]
  },
  {
   "cell_type": "code",
   "execution_count": 48,
   "metadata": {
    "ExecuteTime": {
     "end_time": "2020-11-09T07:14:03.471084Z",
     "start_time": "2020-11-09T07:13:59.652937Z"
    }
   },
   "outputs": [],
   "source": [
    "# 원핫인코딩 수행\n",
    "y_test = to_categorical(y_test)\n",
    "y_train = to_categorical(y_train)\n",
    "\n",
    "# 데이터 차원 추가\n",
    "x_train = np.expand_dims(x_train,-1)\n",
    "x_test = np.expand_dims(x_test,-1)"
   ]
  },
  {
   "cell_type": "code",
   "execution_count": 62,
   "metadata": {
    "ExecuteTime": {
     "end_time": "2020-11-09T07:31:49.591220Z",
     "start_time": "2020-11-09T07:31:29.953385Z"
    },
    "scrolled": true
   },
   "outputs": [
    {
     "name": "stdout",
     "output_type": "stream",
     "text": [
      "Model: \"sequential_4\"\n",
      "_________________________________________________________________\n",
      "Layer (type)                 Output Shape              Param #   \n",
      "=================================================================\n",
      "conv1d_12 (Conv1D)           (None, 176, 16)           64        \n",
      "_________________________________________________________________\n",
      "conv1d_13 (Conv1D)           (None, 174, 16)           784       \n",
      "_________________________________________________________________\n",
      "max_pooling1d_6 (MaxPooling1 (None, 86, 16)            0         \n",
      "_________________________________________________________________\n",
      "conv1d_14 (Conv1D)           (None, 84, 32)            1568      \n",
      "_________________________________________________________________\n",
      "conv1d_15 (Conv1D)           (None, 82, 32)            3104      \n",
      "_________________________________________________________________\n",
      "max_pooling1d_7 (MaxPooling1 (None, 40, 32)            0         \n",
      "_________________________________________________________________\n",
      "bidirectional_1 (Bidirection (None, 32)                6272      \n",
      "_________________________________________________________________\n",
      "dense_2 (Dense)              (None, 2)                 66        \n",
      "=================================================================\n",
      "Total params: 11,858\n",
      "Trainable params: 11,858\n",
      "Non-trainable params: 0\n",
      "_________________________________________________________________\n",
      "Epoch 1/50\n",
      "38/38 [==============================] - 1s 26ms/step - loss: 0.5546 - accuracy: 0.7206 - val_loss: 0.7054 - val_accuracy: 0.6383\n",
      "Epoch 2/50\n",
      "38/38 [==============================] - 0s 8ms/step - loss: 0.4253 - accuracy: 0.8248 - val_loss: 0.5937 - val_accuracy: 0.7200\n",
      "Epoch 3/50\n",
      "38/38 [==============================] - 0s 8ms/step - loss: 0.3799 - accuracy: 0.8462 - val_loss: 0.5566 - val_accuracy: 0.7725\n",
      "Epoch 4/50\n",
      "38/38 [==============================] - 0s 8ms/step - loss: 0.3310 - accuracy: 0.8675 - val_loss: 0.5695 - val_accuracy: 0.7325\n",
      "Epoch 5/50\n",
      "38/38 [==============================] - 0s 8ms/step - loss: 0.3005 - accuracy: 0.8821 - val_loss: 0.2666 - val_accuracy: 0.8667\n",
      "Epoch 6/50\n",
      "38/38 [==============================] - 0s 8ms/step - loss: 0.2899 - accuracy: 0.8890 - val_loss: 0.4155 - val_accuracy: 0.8175\n",
      "Epoch 7/50\n",
      "38/38 [==============================] - 0s 8ms/step - loss: 0.2486 - accuracy: 0.9083 - val_loss: 0.3961 - val_accuracy: 0.8292\n",
      "Epoch 8/50\n",
      "38/38 [==============================] - 0s 8ms/step - loss: 0.2624 - accuracy: 0.8994 - val_loss: 0.3405 - val_accuracy: 0.8592\n",
      "Epoch 9/50\n",
      "38/38 [==============================] - 0s 8ms/step - loss: 0.2155 - accuracy: 0.9200 - val_loss: 0.5597 - val_accuracy: 0.7875\n",
      "Epoch 10/50\n",
      "38/38 [==============================] - 0s 8ms/step - loss: 0.2010 - accuracy: 0.9269 - val_loss: 0.2984 - val_accuracy: 0.8725\n",
      "Epoch 11/50\n",
      "38/38 [==============================] - 0s 8ms/step - loss: 0.2032 - accuracy: 0.9217 - val_loss: 0.3000 - val_accuracy: 0.8858\n",
      "Epoch 12/50\n",
      "38/38 [==============================] - 0s 8ms/step - loss: 0.1716 - accuracy: 0.9379 - val_loss: 0.2672 - val_accuracy: 0.8825\n",
      "Epoch 13/50\n",
      "38/38 [==============================] - 0s 8ms/step - loss: 0.1938 - accuracy: 0.9300 - val_loss: 0.2927 - val_accuracy: 0.8842\n",
      "Epoch 14/50\n",
      "38/38 [==============================] - 0s 8ms/step - loss: 0.1650 - accuracy: 0.9429 - val_loss: 0.2462 - val_accuracy: 0.8975\n",
      "Epoch 15/50\n",
      "38/38 [==============================] - 0s 8ms/step - loss: 0.1570 - accuracy: 0.9435 - val_loss: 0.2649 - val_accuracy: 0.8908\n",
      "Epoch 16/50\n",
      "38/38 [==============================] - 0s 8ms/step - loss: 0.1522 - accuracy: 0.9460 - val_loss: 0.2887 - val_accuracy: 0.8900\n",
      "Epoch 17/50\n",
      "38/38 [==============================] - 0s 8ms/step - loss: 0.1537 - accuracy: 0.9431 - val_loss: 0.3054 - val_accuracy: 0.8767\n",
      "Epoch 18/50\n",
      "38/38 [==============================] - 0s 8ms/step - loss: 0.1887 - accuracy: 0.9283 - val_loss: 0.3167 - val_accuracy: 0.8800\n",
      "Epoch 19/50\n",
      "38/38 [==============================] - 0s 8ms/step - loss: 0.1457 - accuracy: 0.9498 - val_loss: 0.1157 - val_accuracy: 0.9483\n",
      "Epoch 20/50\n",
      "38/38 [==============================] - 0s 8ms/step - loss: 0.1319 - accuracy: 0.9575 - val_loss: 0.1276 - val_accuracy: 0.9417\n",
      "Epoch 21/50\n",
      "38/38 [==============================] - 0s 8ms/step - loss: 0.1228 - accuracy: 0.9538 - val_loss: 0.1689 - val_accuracy: 0.9367\n",
      "Epoch 22/50\n",
      "38/38 [==============================] - 0s 8ms/step - loss: 0.1207 - accuracy: 0.9577 - val_loss: 0.1496 - val_accuracy: 0.9475\n",
      "Epoch 23/50\n",
      "38/38 [==============================] - 0s 8ms/step - loss: 0.1238 - accuracy: 0.9567 - val_loss: 0.0928 - val_accuracy: 0.9633\n",
      "Epoch 24/50\n",
      "38/38 [==============================] - 0s 8ms/step - loss: 0.1188 - accuracy: 0.9590 - val_loss: 0.1770 - val_accuracy: 0.9292\n",
      "Epoch 25/50\n",
      "38/38 [==============================] - 0s 8ms/step - loss: 0.0880 - accuracy: 0.9698 - val_loss: 0.2168 - val_accuracy: 0.9150\n",
      "Epoch 26/50\n",
      "38/38 [==============================] - 0s 8ms/step - loss: 0.0907 - accuracy: 0.9683 - val_loss: 0.1942 - val_accuracy: 0.9275\n",
      "Epoch 27/50\n",
      "38/38 [==============================] - 0s 8ms/step - loss: 0.0964 - accuracy: 0.9654 - val_loss: 0.1596 - val_accuracy: 0.9408\n",
      "Epoch 28/50\n",
      "38/38 [==============================] - 0s 8ms/step - loss: 0.0911 - accuracy: 0.9669 - val_loss: 0.1177 - val_accuracy: 0.9583\n",
      "Epoch 29/50\n",
      "38/38 [==============================] - 0s 8ms/step - loss: 0.0823 - accuracy: 0.9706 - val_loss: 0.1549 - val_accuracy: 0.9392\n",
      "Epoch 30/50\n",
      "38/38 [==============================] - 0s 8ms/step - loss: 0.0687 - accuracy: 0.9783 - val_loss: 0.0727 - val_accuracy: 0.9733\n",
      "Epoch 31/50\n",
      "38/38 [==============================] - 0s 8ms/step - loss: 0.0706 - accuracy: 0.9771 - val_loss: 0.1216 - val_accuracy: 0.9442\n",
      "Epoch 32/50\n",
      "38/38 [==============================] - 0s 8ms/step - loss: 0.0631 - accuracy: 0.9802 - val_loss: 0.1882 - val_accuracy: 0.9350\n",
      "Epoch 33/50\n",
      "38/38 [==============================] - 0s 8ms/step - loss: 0.0666 - accuracy: 0.9767 - val_loss: 0.1891 - val_accuracy: 0.9308\n",
      "Epoch 34/50\n",
      "38/38 [==============================] - 0s 8ms/step - loss: 0.0663 - accuracy: 0.9769 - val_loss: 0.1674 - val_accuracy: 0.9350\n",
      "Epoch 35/50\n",
      "38/38 [==============================] - 0s 8ms/step - loss: 0.0620 - accuracy: 0.9800 - val_loss: 0.1896 - val_accuracy: 0.9325\n",
      "Epoch 36/50\n",
      "38/38 [==============================] - 0s 8ms/step - loss: 0.0701 - accuracy: 0.9756 - val_loss: 0.2227 - val_accuracy: 0.9158\n",
      "Epoch 37/50\n",
      "38/38 [==============================] - 0s 8ms/step - loss: 0.1040 - accuracy: 0.9608 - val_loss: 0.2163 - val_accuracy: 0.9258\n",
      "Epoch 38/50\n",
      "38/38 [==============================] - 0s 8ms/step - loss: 0.0860 - accuracy: 0.9696 - val_loss: 0.1712 - val_accuracy: 0.9342\n",
      "Epoch 39/50\n",
      "38/38 [==============================] - 0s 8ms/step - loss: 0.0591 - accuracy: 0.9815 - val_loss: 0.1258 - val_accuracy: 0.9583\n",
      "Epoch 40/50\n",
      "38/38 [==============================] - 0s 8ms/step - loss: 0.0522 - accuracy: 0.9831 - val_loss: 0.1622 - val_accuracy: 0.9467\n",
      "Epoch 41/50\n",
      "38/38 [==============================] - 0s 8ms/step - loss: 0.0766 - accuracy: 0.9760 - val_loss: 0.2413 - val_accuracy: 0.9158\n",
      "Epoch 42/50\n",
      "38/38 [==============================] - 0s 8ms/step - loss: 0.0672 - accuracy: 0.9758 - val_loss: 0.1344 - val_accuracy: 0.9483\n",
      "Epoch 43/50\n",
      "38/38 [==============================] - 0s 8ms/step - loss: 0.0378 - accuracy: 0.9865 - val_loss: 0.1020 - val_accuracy: 0.9658\n",
      "Epoch 44/50\n",
      "38/38 [==============================] - 0s 8ms/step - loss: 0.0401 - accuracy: 0.9858 - val_loss: 0.0915 - val_accuracy: 0.9650\n",
      "Epoch 45/50\n",
      "38/38 [==============================] - 0s 9ms/step - loss: 0.0488 - accuracy: 0.9846 - val_loss: 0.1305 - val_accuracy: 0.9650\n",
      "Epoch 46/50\n",
      "38/38 [==============================] - 0s 8ms/step - loss: 0.0474 - accuracy: 0.9856 - val_loss: 0.1148 - val_accuracy: 0.9592\n",
      "Epoch 47/50\n",
      "38/38 [==============================] - 0s 8ms/step - loss: 0.0569 - accuracy: 0.9810 - val_loss: 0.3179 - val_accuracy: 0.8975\n",
      "Epoch 48/50\n",
      "38/38 [==============================] - 0s 8ms/step - loss: 0.0753 - accuracy: 0.9740 - val_loss: 0.0730 - val_accuracy: 0.9767\n",
      "Epoch 49/50\n",
      "38/38 [==============================] - 0s 8ms/step - loss: 0.0703 - accuracy: 0.9771 - val_loss: 0.1534 - val_accuracy: 0.9458\n",
      "Epoch 50/50\n",
      "38/38 [==============================] - 0s 7ms/step - loss: 0.0358 - accuracy: 0.9875 - val_loss: 0.2144 - val_accuracy: 0.9267\n"
     ]
    },
    {
     "data": {
      "image/png": "[encoded data removed]",
      "text/plain": [
       "<Figure size 432x288 with 2 Axes>"
      ]
     },
     "metadata": {
      "needs_background": "light"
     },
     "output_type": "display_data"
    }
   ],
   "source": [
    "# 모델 구조 생성 및 컴파일 및 학습진행\n",
    "\n",
    "model = Sequential()\n",
    "model.add(layers.Conv1D(filters=16, kernel_size=3, input_shape=(x_train.shape[1],1), activation = 'relu'))\n",
    "model.add(layers.Conv1D(filters=16, kernel_size=3, activation = 'relu'))\n",
    "model.add(layers.MaxPooling1D(pool_size = 3, strides=2))\n",
    "model.add(layers.Conv1D(filters=32, kernel_size=3, input_shape=(x_train.shape[1],1), activation = 'relu'))\n",
    "model.add(layers.Conv1D(filters=32, kernel_size=3, activation = 'relu'))\n",
    "model.add(layers.MaxPooling1D(pool_size = 3, strides=2))\n",
    "model.add(layers.Bidirectional(layers.LSTM(16)))\n",
    "model.add(layers.Dense(units=2, activation='softmax'))\n",
    "model.compile(loss='categorical_crossentropy', optimizer=optimizers.Adam(lr=0.01), metrics=['accuracy'])\n",
    "model.summary()\n",
    "\n",
    "model.fit(x_train, y_train, epochs = 50, batch_size=128, validation_split=0.2)"
   ]
  },
  {
   "cell_type": "code",
   "execution_count": null,
   "metadata": {},
   "outputs": [],
   "source": []
  }
 ],
 "metadata": {
  "kernelspec": {
   "display_name": "Python 3",
   "language": "python",
   "name": "python3"
  },
  "language_info": {
   "codemirror_mode": {
    "name": "ipython",
    "version": 3
   },
   "file_extension": ".py",
   "mimetype": "text/x-python",
   "name": "python",
   "nbconvert_exporter": "python",
   "pygments_lexer": "ipython3",
   "version": "3.7.9"
  },
  "toc": {
   "base_numbering": 1,
   "nav_menu": {},
   "number_sections": true,
   "sideBar": true,
   "skip_h1_title": false,
   "title_cell": "Table of Contents",
   "title_sidebar": "Contents",
   "toc_cell": false,
   "toc_position": {},
   "toc_section_display": true,
   "toc_window_display": false
  },
  "varInspector": {
   "cols": {
    "lenName": 16,
    "lenType": 16,
    "lenVar": 40
   },
   "kernels_config": {
    "python": {
     "delete_cmd_postfix": "",
     "delete_cmd_prefix": "del ",
     "library": "var_list.py",
     "varRefreshCmd": "print(var_dic_list())"
    },
    "r": {
     "delete_cmd_postfix": ") ",
     "delete_cmd_prefix": "rm(",
     "library": "var_list.r",
     "varRefreshCmd": "cat(var_dic_list()) "
    }
   },
   "types_to_exclude": [
    "module",
    "function",
    "builtin_function_or_method",
    "instance",
    "_Feature"
   ],
   "window_display": false
  }
 },
 "nbformat": 4,
 "nbformat_minor": 4
}
